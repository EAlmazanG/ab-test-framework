{
 "cells": [
  {
   "cell_type": "code",
   "execution_count": 1,
   "metadata": {},
   "outputs": [],
   "source": [
    "import os\n",
    "import sys\n",
    "sys.path.append(os.path.abspath(os.path.join('..')))\n",
    "\n",
    "import pandas as pd\n",
    "import numpy as np\n",
    "import math\n",
    "import itertools\n",
    "import re\n",
    "import json\n",
    "\n",
    "import matplotlib.pyplot as plt\n",
    "import seaborn as sns"
   ]
  },
  {
   "cell_type": "code",
   "execution_count": 2,
   "metadata": {},
   "outputs": [],
   "source": [
    "from src import analysis\n",
    "from src import framework\n",
    "from src import ab_tests\n",
    "from src.framework import print_title"
   ]
  },
  {
   "cell_type": "code",
   "execution_count": 3,
   "metadata": {},
   "outputs": [
    {
     "data": {
      "text/plain": [
       "<module 'src.ab_tests' from '/Users/jobandtalent/Documents/GitHub/ab-test-framework/src/ab_tests.py'>"
      ]
     },
     "execution_count": 3,
     "metadata": {},
     "output_type": "execute_result"
    }
   ],
   "source": [
    "import importlib\n",
    "importlib.reload(analysis)\n",
    "importlib.reload(framework)\n",
    "importlib.reload(ab_tests)"
   ]
  },
  {
   "cell_type": "markdown",
   "metadata": {},
   "source": [
    "# EXPERIMENT DESIGN"
   ]
  },
  {
   "cell_type": "markdown",
   "metadata": {},
   "source": [
    "#### SOURCES INGESTION"
   ]
  },
  {
   "cell_type": "code",
   "execution_count": 4,
   "metadata": {},
   "outputs": [
    {
     "data": {
      "text/html": [
       "<div>\n",
       "<style scoped>\n",
       "    .dataframe tbody tr th:only-of-type {\n",
       "        vertical-align: middle;\n",
       "    }\n",
       "\n",
       "    .dataframe tbody tr th {\n",
       "        vertical-align: top;\n",
       "    }\n",
       "\n",
       "    .dataframe thead th {\n",
       "        text-align: right;\n",
       "    }\n",
       "</style>\n",
       "<table border=\"1\" class=\"dataframe\">\n",
       "  <thead>\n",
       "    <tr style=\"text-align: right;\">\n",
       "      <th></th>\n",
       "      <th>U_ID</th>\n",
       "      <th>VARIANT</th>\n",
       "      <th>USER_SEGMENT</th>\n",
       "      <th>PROMO_TAG</th>\n",
       "      <th>PROMOTER_U_ID</th>\n",
       "      <th>IS_TREATMENT</th>\n",
       "      <th>WHEN_ENTERED_INTO_EXPERIMENT</th>\n",
       "      <th>COUNT_TRANSFERS</th>\n",
       "      <th>DAYS_TRANSACTING</th>\n",
       "      <th>DISTINCT_RECEIVERS</th>\n",
       "      <th>TOTAL_TRANSFER_AMOUNT</th>\n",
       "    </tr>\n",
       "  </thead>\n",
       "  <tbody>\n",
       "    <tr>\n",
       "      <th>0</th>\n",
       "      <td>203</td>\n",
       "      <td>CONTROL</td>\n",
       "      <td>MONTHLY_ACTIVE</td>\n",
       "      <td>sms_enrolment</td>\n",
       "      <td>NaN</td>\n",
       "      <td>0</td>\n",
       "      <td>2023-06-02 15:33:01</td>\n",
       "      <td>0</td>\n",
       "      <td>99</td>\n",
       "      <td>0</td>\n",
       "      <td>NaN</td>\n",
       "    </tr>\n",
       "    <tr>\n",
       "      <th>1</th>\n",
       "      <td>1577</td>\n",
       "      <td>CONTROL</td>\n",
       "      <td>MONTHLY_ACTIVE</td>\n",
       "      <td>sms_enrolment</td>\n",
       "      <td>NaN</td>\n",
       "      <td>0</td>\n",
       "      <td>2023-06-02 15:32:44</td>\n",
       "      <td>0</td>\n",
       "      <td>99</td>\n",
       "      <td>0</td>\n",
       "      <td>NaN</td>\n",
       "    </tr>\n",
       "    <tr>\n",
       "      <th>2</th>\n",
       "      <td>3326</td>\n",
       "      <td>CONTROL</td>\n",
       "      <td>MONTHLY_ACTIVE</td>\n",
       "      <td>sms_enrolment</td>\n",
       "      <td>NaN</td>\n",
       "      <td>0</td>\n",
       "      <td>2023-06-02 15:32:22</td>\n",
       "      <td>0</td>\n",
       "      <td>99</td>\n",
       "      <td>0</td>\n",
       "      <td>NaN</td>\n",
       "    </tr>\n",
       "    <tr>\n",
       "      <th>3</th>\n",
       "      <td>6004</td>\n",
       "      <td>CONTROL</td>\n",
       "      <td>MONTHLY_ACTIVE</td>\n",
       "      <td>sms_enrolment</td>\n",
       "      <td>NaN</td>\n",
       "      <td>0</td>\n",
       "      <td>2023-06-02 15:31:51</td>\n",
       "      <td>0</td>\n",
       "      <td>99</td>\n",
       "      <td>0</td>\n",
       "      <td>NaN</td>\n",
       "    </tr>\n",
       "    <tr>\n",
       "      <th>4</th>\n",
       "      <td>8643</td>\n",
       "      <td>CONTROL</td>\n",
       "      <td>MONTHLY_ACTIVE</td>\n",
       "      <td>sms_enrolment</td>\n",
       "      <td>NaN</td>\n",
       "      <td>0</td>\n",
       "      <td>2023-06-02 15:31:20</td>\n",
       "      <td>0</td>\n",
       "      <td>99</td>\n",
       "      <td>0</td>\n",
       "      <td>NaN</td>\n",
       "    </tr>\n",
       "  </tbody>\n",
       "</table>\n",
       "</div>"
      ],
      "text/plain": [
       "   U_ID  VARIANT    USER_SEGMENT      PROMO_TAG  PROMOTER_U_ID  IS_TREATMENT  \\\n",
       "0   203  CONTROL  MONTHLY_ACTIVE  sms_enrolment            NaN             0   \n",
       "1  1577  CONTROL  MONTHLY_ACTIVE  sms_enrolment            NaN             0   \n",
       "2  3326  CONTROL  MONTHLY_ACTIVE  sms_enrolment            NaN             0   \n",
       "3  6004  CONTROL  MONTHLY_ACTIVE  sms_enrolment            NaN             0   \n",
       "4  8643  CONTROL  MONTHLY_ACTIVE  sms_enrolment            NaN             0   \n",
       "\n",
       "  WHEN_ENTERED_INTO_EXPERIMENT  COUNT_TRANSFERS  DAYS_TRANSACTING  \\\n",
       "0          2023-06-02 15:33:01                0                99   \n",
       "1          2023-06-02 15:32:44                0                99   \n",
       "2          2023-06-02 15:32:22                0                99   \n",
       "3          2023-06-02 15:31:51                0                99   \n",
       "4          2023-06-02 15:31:20                0                99   \n",
       "\n",
       "   DISTINCT_RECEIVERS  TOTAL_TRANSFER_AMOUNT  \n",
       "0                   0                    NaN  \n",
       "1                   0                    NaN  \n",
       "2                   0                    NaN  \n",
       "3                   0                    NaN  \n",
       "4                   0                    NaN  "
      ]
     },
     "metadata": {},
     "output_type": "display_data"
    },
    {
     "name": "stdout",
     "output_type": "stream",
     "text": [
      "-------------------- INITIAL DATA TYPES --------------------\n",
      "U_ID                              int64\n",
      "VARIANT                          object\n",
      "USER_SEGMENT                     object\n",
      "PROMO_TAG                        object\n",
      "PROMOTER_U_ID                   float64\n",
      "IS_TREATMENT                      int64\n",
      "WHEN_ENTERED_INTO_EXPERIMENT     object\n",
      "COUNT_TRANSFERS                   int64\n",
      "DAYS_TRANSACTING                  int64\n",
      "DISTINCT_RECEIVERS                int64\n",
      "TOTAL_TRANSFER_AMOUNT           float64\n",
      "dtype: object\n"
     ]
    }
   ],
   "source": [
    "# Load raw data\n",
    "file_name = 'ab_test_example_3.csv'\n",
    "df_raw = pd.read_csv('../data/' + file_name)\n",
    "display(df_raw.head(5))\n",
    "\n",
    "# Make a copy\n",
    "df = df_raw.copy()\n",
    "\n",
    "# Check dtypes\n",
    "print_title('INITIAL DATA TYPES')\n",
    "print(df.dtypes)"
   ]
  },
  {
   "cell_type": "markdown",
   "metadata": {},
   "source": [
    "#### METRIC SELECTION"
   ]
  },
  {
   "cell_type": "code",
   "execution_count": 5,
   "metadata": {},
   "outputs": [
    {
     "name": "stderr",
     "output_type": "stream",
     "text": [
      "/var/folders/hv/ckh3m6gn1sd45q2qctrqcwzh0000gn/T/ipykernel_62290/2439425549.py:3: FutureWarning: the convert_dtype parameter is deprecated and will be removed in a future version.  Do ``ser.astype(object).apply()`` instead if you want ``convert_dtype=False``.\n",
      "  df['metric_cvr_transaction'] = df['TOTAL_TRANSFER_AMOUNT'].apply(lambda x: 1 if x > 0 else 0, 1)\n"
     ]
    }
   ],
   "source": [
    "# calculate the metrics, use metric_cnt_ or metric_cvr_\n",
    "df['metric_cnt_total_transfer_amount'] = df['TOTAL_TRANSFER_AMOUNT']\n",
    "df['metric_cvr_transaction'] = df['TOTAL_TRANSFER_AMOUNT'].apply(lambda x: 1 if x > 0 else 0, 1)"
   ]
  },
  {
   "cell_type": "markdown",
   "metadata": {},
   "source": [
    "#### EXPERIMENT DESIGN"
   ]
  },
  {
   "cell_type": "code",
   "execution_count": 6,
   "metadata": {},
   "outputs": [
    {
     "name": "stdout",
     "output_type": "stream",
     "text": [
      "Sample size: 50896 users per variant\n",
      "Minimum days required: 11\n"
     ]
    }
   ],
   "source": [
    "sample_data_df = df.copy()\n",
    "np.random.seed(42)\n",
    "\n",
    "# Experiment Parameters\n",
    "effect_size = 0.1  # MDE relative percentage (0.02 = 2%)\n",
    "daily_traffic = 10000  # Daily users\n",
    "traffic_proportion = 0.5 # Proportion of daily users use for the experiment\n",
    "metric_column = 'metric_cnt_total_transfer_amount'\n",
    "is_sample_data_available = True\n",
    "\n",
    "# Experiment sizes\n",
    "if not is_sample_data_available:\n",
    "    sample_size = analysis.calculate_sample_size_cohen(effect_size, alpha=0.05, power=0.8)\n",
    "else:\n",
    "    sample_size = analysis.calculate_sample_size_var(sample_data_df, metric_column, effect_size, alpha=0.05, power=0.8)\n",
    "\n",
    "# Experiment duration\n",
    "experiment_days_duration = analysis.calculate_experiment_duration(sample_size, daily_traffic, traffic_proportion)\n",
    "\n",
    "print(f\"Sample size: {sample_size} users per variant\")\n",
    "print(f\"Minimum days required: {experiment_days_duration}\")"
   ]
  },
  {
   "cell_type": "markdown",
   "metadata": {},
   "source": [
    "-----------------------------------------------------------------------------------------"
   ]
  },
  {
   "cell_type": "markdown",
   "metadata": {},
   "source": [
    "# EXPERIMENT RESULTS"
   ]
  },
  {
   "cell_type": "markdown",
   "metadata": {},
   "source": [
    "## SOURCES INGESTION"
   ]
  },
  {
   "cell_type": "markdown",
   "metadata": {},
   "source": [
    "### LOAD"
   ]
  },
  {
   "cell_type": "code",
   "execution_count": 7,
   "metadata": {},
   "outputs": [
    {
     "data": {
      "text/html": [
       "<div>\n",
       "<style scoped>\n",
       "    .dataframe tbody tr th:only-of-type {\n",
       "        vertical-align: middle;\n",
       "    }\n",
       "\n",
       "    .dataframe tbody tr th {\n",
       "        vertical-align: top;\n",
       "    }\n",
       "\n",
       "    .dataframe thead th {\n",
       "        text-align: right;\n",
       "    }\n",
       "</style>\n",
       "<table border=\"1\" class=\"dataframe\">\n",
       "  <thead>\n",
       "    <tr style=\"text-align: right;\">\n",
       "      <th></th>\n",
       "      <th>U_ID</th>\n",
       "      <th>VARIANT</th>\n",
       "      <th>USER_SEGMENT</th>\n",
       "      <th>PROMO_TAG</th>\n",
       "      <th>PROMOTER_U_ID</th>\n",
       "      <th>IS_TREATMENT</th>\n",
       "      <th>WHEN_ENTERED_INTO_EXPERIMENT</th>\n",
       "      <th>COUNT_TRANSFERS</th>\n",
       "      <th>DAYS_TRANSACTING</th>\n",
       "      <th>DISTINCT_RECEIVERS</th>\n",
       "      <th>TOTAL_TRANSFER_AMOUNT</th>\n",
       "    </tr>\n",
       "  </thead>\n",
       "  <tbody>\n",
       "    <tr>\n",
       "      <th>0</th>\n",
       "      <td>203</td>\n",
       "      <td>CONTROL</td>\n",
       "      <td>MONTHLY_ACTIVE</td>\n",
       "      <td>sms_enrolment</td>\n",
       "      <td>NaN</td>\n",
       "      <td>0</td>\n",
       "      <td>2023-06-02 15:33:01</td>\n",
       "      <td>0</td>\n",
       "      <td>99</td>\n",
       "      <td>0</td>\n",
       "      <td>NaN</td>\n",
       "    </tr>\n",
       "    <tr>\n",
       "      <th>1</th>\n",
       "      <td>1577</td>\n",
       "      <td>CONTROL</td>\n",
       "      <td>MONTHLY_ACTIVE</td>\n",
       "      <td>sms_enrolment</td>\n",
       "      <td>NaN</td>\n",
       "      <td>0</td>\n",
       "      <td>2023-06-02 15:32:44</td>\n",
       "      <td>0</td>\n",
       "      <td>99</td>\n",
       "      <td>0</td>\n",
       "      <td>NaN</td>\n",
       "    </tr>\n",
       "    <tr>\n",
       "      <th>2</th>\n",
       "      <td>3326</td>\n",
       "      <td>CONTROL</td>\n",
       "      <td>MONTHLY_ACTIVE</td>\n",
       "      <td>sms_enrolment</td>\n",
       "      <td>NaN</td>\n",
       "      <td>0</td>\n",
       "      <td>2023-06-02 15:32:22</td>\n",
       "      <td>0</td>\n",
       "      <td>99</td>\n",
       "      <td>0</td>\n",
       "      <td>NaN</td>\n",
       "    </tr>\n",
       "    <tr>\n",
       "      <th>3</th>\n",
       "      <td>6004</td>\n",
       "      <td>CONTROL</td>\n",
       "      <td>MONTHLY_ACTIVE</td>\n",
       "      <td>sms_enrolment</td>\n",
       "      <td>NaN</td>\n",
       "      <td>0</td>\n",
       "      <td>2023-06-02 15:31:51</td>\n",
       "      <td>0</td>\n",
       "      <td>99</td>\n",
       "      <td>0</td>\n",
       "      <td>NaN</td>\n",
       "    </tr>\n",
       "    <tr>\n",
       "      <th>4</th>\n",
       "      <td>8643</td>\n",
       "      <td>CONTROL</td>\n",
       "      <td>MONTHLY_ACTIVE</td>\n",
       "      <td>sms_enrolment</td>\n",
       "      <td>NaN</td>\n",
       "      <td>0</td>\n",
       "      <td>2023-06-02 15:31:20</td>\n",
       "      <td>0</td>\n",
       "      <td>99</td>\n",
       "      <td>0</td>\n",
       "      <td>NaN</td>\n",
       "    </tr>\n",
       "  </tbody>\n",
       "</table>\n",
       "</div>"
      ],
      "text/plain": [
       "   U_ID  VARIANT    USER_SEGMENT      PROMO_TAG  PROMOTER_U_ID  IS_TREATMENT  \\\n",
       "0   203  CONTROL  MONTHLY_ACTIVE  sms_enrolment            NaN             0   \n",
       "1  1577  CONTROL  MONTHLY_ACTIVE  sms_enrolment            NaN             0   \n",
       "2  3326  CONTROL  MONTHLY_ACTIVE  sms_enrolment            NaN             0   \n",
       "3  6004  CONTROL  MONTHLY_ACTIVE  sms_enrolment            NaN             0   \n",
       "4  8643  CONTROL  MONTHLY_ACTIVE  sms_enrolment            NaN             0   \n",
       "\n",
       "  WHEN_ENTERED_INTO_EXPERIMENT  COUNT_TRANSFERS  DAYS_TRANSACTING  \\\n",
       "0          2023-06-02 15:33:01                0                99   \n",
       "1          2023-06-02 15:32:44                0                99   \n",
       "2          2023-06-02 15:32:22                0                99   \n",
       "3          2023-06-02 15:31:51                0                99   \n",
       "4          2023-06-02 15:31:20                0                99   \n",
       "\n",
       "   DISTINCT_RECEIVERS  TOTAL_TRANSFER_AMOUNT  \n",
       "0                   0                    NaN  \n",
       "1                   0                    NaN  \n",
       "2                   0                    NaN  \n",
       "3                   0                    NaN  \n",
       "4                   0                    NaN  "
      ]
     },
     "metadata": {},
     "output_type": "display_data"
    },
    {
     "name": "stdout",
     "output_type": "stream",
     "text": [
      "-------------------- INITIAL DATA TYPES --------------------\n",
      "U_ID                              int64\n",
      "VARIANT                          object\n",
      "USER_SEGMENT                     object\n",
      "PROMO_TAG                        object\n",
      "PROMOTER_U_ID                   float64\n",
      "IS_TREATMENT                      int64\n",
      "WHEN_ENTERED_INTO_EXPERIMENT     object\n",
      "COUNT_TRANSFERS                   int64\n",
      "DAYS_TRANSACTING                  int64\n",
      "DISTINCT_RECEIVERS                int64\n",
      "TOTAL_TRANSFER_AMOUNT           float64\n",
      "dtype: object\n"
     ]
    }
   ],
   "source": [
    "# Load raw data\n",
    "file_name = 'ab_test_example_3.csv'\n",
    "df_raw = pd.read_csv('../data/' + file_name)\n",
    "display(df_raw.head(5))\n",
    "\n",
    "# Make a copy\n",
    "df = df_raw.copy()\n",
    "\n",
    "# Check dtypes\n",
    "print_title('INITIAL DATA TYPES')\n",
    "print(df.dtypes)"
   ]
  },
  {
   "cell_type": "markdown",
   "metadata": {},
   "source": [
    "### DTYPES"
   ]
  },
  {
   "cell_type": "code",
   "execution_count": 8,
   "metadata": {},
   "outputs": [
    {
     "name": "stdout",
     "output_type": "stream",
     "text": [
      "------------------- CONVERTED DATA TYPES -------------------\n",
      "U_ID                                     Int64\n",
      "VARIANT                                 object\n",
      "USER_SEGMENT                            object\n",
      "PROMO_TAG                               object\n",
      "PROMOTER_U_ID                            Int64\n",
      "IS_TREATMENT                             Int64\n",
      "WHEN_ENTERED_INTO_EXPERIMENT    datetime64[ns]\n",
      "COUNT_TRANSFERS                          Int64\n",
      "DAYS_TRANSACTING                         Int64\n",
      "DISTINCT_RECEIVERS                       Int64\n",
      "TOTAL_TRANSFER_AMOUNT                  float64\n",
      "dtype: object\n"
     ]
    },
    {
     "data": {
      "text/html": [
       "<div>\n",
       "<style scoped>\n",
       "    .dataframe tbody tr th:only-of-type {\n",
       "        vertical-align: middle;\n",
       "    }\n",
       "\n",
       "    .dataframe tbody tr th {\n",
       "        vertical-align: top;\n",
       "    }\n",
       "\n",
       "    .dataframe thead th {\n",
       "        text-align: right;\n",
       "    }\n",
       "</style>\n",
       "<table border=\"1\" class=\"dataframe\">\n",
       "  <thead>\n",
       "    <tr style=\"text-align: right;\">\n",
       "      <th></th>\n",
       "      <th>U_ID</th>\n",
       "      <th>VARIANT</th>\n",
       "      <th>USER_SEGMENT</th>\n",
       "      <th>PROMO_TAG</th>\n",
       "      <th>PROMOTER_U_ID</th>\n",
       "      <th>IS_TREATMENT</th>\n",
       "      <th>WHEN_ENTERED_INTO_EXPERIMENT</th>\n",
       "      <th>COUNT_TRANSFERS</th>\n",
       "      <th>DAYS_TRANSACTING</th>\n",
       "      <th>DISTINCT_RECEIVERS</th>\n",
       "      <th>TOTAL_TRANSFER_AMOUNT</th>\n",
       "    </tr>\n",
       "  </thead>\n",
       "  <tbody>\n",
       "    <tr>\n",
       "      <th>0</th>\n",
       "      <td>203</td>\n",
       "      <td>CONTROL</td>\n",
       "      <td>MONTHLY_ACTIVE</td>\n",
       "      <td>sms_enrolment</td>\n",
       "      <td>&lt;NA&gt;</td>\n",
       "      <td>0</td>\n",
       "      <td>2023-06-02 15:33:01</td>\n",
       "      <td>0</td>\n",
       "      <td>99</td>\n",
       "      <td>0</td>\n",
       "      <td>NaN</td>\n",
       "    </tr>\n",
       "    <tr>\n",
       "      <th>1</th>\n",
       "      <td>1577</td>\n",
       "      <td>CONTROL</td>\n",
       "      <td>MONTHLY_ACTIVE</td>\n",
       "      <td>sms_enrolment</td>\n",
       "      <td>&lt;NA&gt;</td>\n",
       "      <td>0</td>\n",
       "      <td>2023-06-02 15:32:44</td>\n",
       "      <td>0</td>\n",
       "      <td>99</td>\n",
       "      <td>0</td>\n",
       "      <td>NaN</td>\n",
       "    </tr>\n",
       "    <tr>\n",
       "      <th>2</th>\n",
       "      <td>3326</td>\n",
       "      <td>CONTROL</td>\n",
       "      <td>MONTHLY_ACTIVE</td>\n",
       "      <td>sms_enrolment</td>\n",
       "      <td>&lt;NA&gt;</td>\n",
       "      <td>0</td>\n",
       "      <td>2023-06-02 15:32:22</td>\n",
       "      <td>0</td>\n",
       "      <td>99</td>\n",
       "      <td>0</td>\n",
       "      <td>NaN</td>\n",
       "    </tr>\n",
       "    <tr>\n",
       "      <th>3</th>\n",
       "      <td>6004</td>\n",
       "      <td>CONTROL</td>\n",
       "      <td>MONTHLY_ACTIVE</td>\n",
       "      <td>sms_enrolment</td>\n",
       "      <td>&lt;NA&gt;</td>\n",
       "      <td>0</td>\n",
       "      <td>2023-06-02 15:31:51</td>\n",
       "      <td>0</td>\n",
       "      <td>99</td>\n",
       "      <td>0</td>\n",
       "      <td>NaN</td>\n",
       "    </tr>\n",
       "    <tr>\n",
       "      <th>4</th>\n",
       "      <td>8643</td>\n",
       "      <td>CONTROL</td>\n",
       "      <td>MONTHLY_ACTIVE</td>\n",
       "      <td>sms_enrolment</td>\n",
       "      <td>&lt;NA&gt;</td>\n",
       "      <td>0</td>\n",
       "      <td>2023-06-02 15:31:20</td>\n",
       "      <td>0</td>\n",
       "      <td>99</td>\n",
       "      <td>0</td>\n",
       "      <td>NaN</td>\n",
       "    </tr>\n",
       "  </tbody>\n",
       "</table>\n",
       "</div>"
      ],
      "text/plain": [
       "   U_ID  VARIANT    USER_SEGMENT      PROMO_TAG  PROMOTER_U_ID  IS_TREATMENT  \\\n",
       "0   203  CONTROL  MONTHLY_ACTIVE  sms_enrolment           <NA>             0   \n",
       "1  1577  CONTROL  MONTHLY_ACTIVE  sms_enrolment           <NA>             0   \n",
       "2  3326  CONTROL  MONTHLY_ACTIVE  sms_enrolment           <NA>             0   \n",
       "3  6004  CONTROL  MONTHLY_ACTIVE  sms_enrolment           <NA>             0   \n",
       "4  8643  CONTROL  MONTHLY_ACTIVE  sms_enrolment           <NA>             0   \n",
       "\n",
       "  WHEN_ENTERED_INTO_EXPERIMENT  COUNT_TRANSFERS  DAYS_TRANSACTING  \\\n",
       "0          2023-06-02 15:33:01                0                99   \n",
       "1          2023-06-02 15:32:44                0                99   \n",
       "2          2023-06-02 15:32:22                0                99   \n",
       "3          2023-06-02 15:31:51                0                99   \n",
       "4          2023-06-02 15:31:20                0                99   \n",
       "\n",
       "   DISTINCT_RECEIVERS  TOTAL_TRANSFER_AMOUNT  \n",
       "0                   0                    NaN  \n",
       "1                   0                    NaN  \n",
       "2                   0                    NaN  \n",
       "3                   0                    NaN  \n",
       "4                   0                    NaN  "
      ]
     },
     "metadata": {},
     "output_type": "display_data"
    }
   ],
   "source": [
    "datetime_columns = ['WHEN_ENTERED_INTO_EXPERIMENT']\n",
    "int64_columns = ['U_ID', 'PROMOTER_U_ID', 'IS_TREATMENT', 'COUNT_TRANSFERS', 'DAYS_TRANSACTING', 'DISTINCT_RECEIVERS']\n",
    "float64_columns = ['TOTAL_TRANSFER_AMOUNT']\n",
    "str_columns = ['VARIANT', 'USER_SEGMENT', 'PROMO_TAG']\n",
    "\n",
    "# Basic data conversion\n",
    "df = framework.format_columns(df, datetime_columns, int64_columns, float64_columns, str_columns)\n",
    "\n",
    "# Check dtypes\n",
    "print_title('CONVERTED DATA TYPES')\n",
    "print(df.dtypes)\n",
    "display(df.head(5))"
   ]
  },
  {
   "cell_type": "markdown",
   "metadata": {},
   "source": [
    "## DATA CLEANING"
   ]
  },
  {
   "cell_type": "markdown",
   "metadata": {},
   "source": [
    "### CHECKS"
   ]
  },
  {
   "cell_type": "code",
   "execution_count": 9,
   "metadata": {},
   "outputs": [],
   "source": [
    "variant_column = 'VARIANT'"
   ]
  },
  {
   "cell_type": "code",
   "execution_count": 10,
   "metadata": {},
   "outputs": [
    {
     "name": "stdout",
     "output_type": "stream",
     "text": [
      "------------------------- DF INFO -------------------------\n",
      "<class 'pandas.core.frame.DataFrame'>\n",
      "RangeIndex: 45623 entries, 0 to 45622\n",
      "Data columns (total 11 columns):\n",
      " #   Column                        Non-Null Count  Dtype         \n",
      "---  ------                        --------------  -----         \n",
      " 0   U_ID                          45623 non-null  Int64         \n",
      " 1   VARIANT                       45623 non-null  object        \n",
      " 2   USER_SEGMENT                  45623 non-null  object        \n",
      " 3   PROMO_TAG                     45623 non-null  object        \n",
      " 4   PROMOTER_U_ID                 29347 non-null  Int64         \n",
      " 5   IS_TREATMENT                  45623 non-null  Int64         \n",
      " 6   WHEN_ENTERED_INTO_EXPERIMENT  45623 non-null  datetime64[ns]\n",
      " 7   COUNT_TRANSFERS               45623 non-null  Int64         \n",
      " 8   DAYS_TRANSACTING              45623 non-null  Int64         \n",
      " 9   DISTINCT_RECEIVERS            45623 non-null  Int64         \n",
      " 10  TOTAL_TRANSFER_AMOUNT         18877 non-null  float64       \n",
      "dtypes: Int64(6), datetime64[ns](1), float64(1), object(3)\n",
      "memory usage: 4.1+ MB\n"
     ]
    },
    {
     "data": {
      "text/plain": [
       "None"
      ]
     },
     "metadata": {},
     "output_type": "display_data"
    },
    {
     "name": "stdout",
     "output_type": "stream",
     "text": [
      "----------------------- DF DESCRIBE -----------------------\n"
     ]
    },
    {
     "data": {
      "text/html": [
       "<div>\n",
       "<style scoped>\n",
       "    .dataframe tbody tr th:only-of-type {\n",
       "        vertical-align: middle;\n",
       "    }\n",
       "\n",
       "    .dataframe tbody tr th {\n",
       "        vertical-align: top;\n",
       "    }\n",
       "\n",
       "    .dataframe thead th {\n",
       "        text-align: right;\n",
       "    }\n",
       "</style>\n",
       "<table border=\"1\" class=\"dataframe\">\n",
       "  <thead>\n",
       "    <tr style=\"text-align: right;\">\n",
       "      <th></th>\n",
       "      <th>U_ID</th>\n",
       "      <th>PROMOTER_U_ID</th>\n",
       "      <th>IS_TREATMENT</th>\n",
       "      <th>WHEN_ENTERED_INTO_EXPERIMENT</th>\n",
       "      <th>COUNT_TRANSFERS</th>\n",
       "      <th>DAYS_TRANSACTING</th>\n",
       "      <th>DISTINCT_RECEIVERS</th>\n",
       "      <th>TOTAL_TRANSFER_AMOUNT</th>\n",
       "    </tr>\n",
       "  </thead>\n",
       "  <tbody>\n",
       "    <tr>\n",
       "      <th>count</th>\n",
       "      <td>45623.0</td>\n",
       "      <td>29347.0</td>\n",
       "      <td>45623.0</td>\n",
       "      <td>45623</td>\n",
       "      <td>45623.0</td>\n",
       "      <td>45623.0</td>\n",
       "      <td>45623.0</td>\n",
       "      <td>1.887700e+04</td>\n",
       "    </tr>\n",
       "    <tr>\n",
       "      <th>mean</th>\n",
       "      <td>22811.996164</td>\n",
       "      <td>21661038.772549</td>\n",
       "      <td>0.354426</td>\n",
       "      <td>2023-05-23 04:48:41.669684224</td>\n",
       "      <td>1.013677</td>\n",
       "      <td>0.879995</td>\n",
       "      <td>0.817548</td>\n",
       "      <td>5.374970e+04</td>\n",
       "    </tr>\n",
       "    <tr>\n",
       "      <th>min</th>\n",
       "      <td>1.0</td>\n",
       "      <td>655650.0</td>\n",
       "      <td>0.0</td>\n",
       "      <td>2023-04-18 00:56:14</td>\n",
       "      <td>0.0</td>\n",
       "      <td>0.0</td>\n",
       "      <td>0.0</td>\n",
       "      <td>5.000000e+00</td>\n",
       "    </tr>\n",
       "    <tr>\n",
       "      <th>25%</th>\n",
       "      <td>11406.5</td>\n",
       "      <td>8451570.0</td>\n",
       "      <td>0.0</td>\n",
       "      <td>2023-05-13 13:35:21.500000</td>\n",
       "      <td>0.0</td>\n",
       "      <td>0.0</td>\n",
       "      <td>0.0</td>\n",
       "      <td>2.000000e+03</td>\n",
       "    </tr>\n",
       "    <tr>\n",
       "      <th>50%</th>\n",
       "      <td>22812.0</td>\n",
       "      <td>18808489.0</td>\n",
       "      <td>0.0</td>\n",
       "      <td>2023-05-25 17:15:51</td>\n",
       "      <td>0.0</td>\n",
       "      <td>0.0</td>\n",
       "      <td>0.0</td>\n",
       "      <td>5.050000e+03</td>\n",
       "    </tr>\n",
       "    <tr>\n",
       "      <th>75%</th>\n",
       "      <td>34217.5</td>\n",
       "      <td>36522003.0</td>\n",
       "      <td>1.0</td>\n",
       "      <td>2023-06-01 15:37:50</td>\n",
       "      <td>1.0</td>\n",
       "      <td>1.0</td>\n",
       "      <td>1.0</td>\n",
       "      <td>2.938000e+04</td>\n",
       "    </tr>\n",
       "    <tr>\n",
       "      <th>max</th>\n",
       "      <td>45616.0</td>\n",
       "      <td>40557197.0</td>\n",
       "      <td>1.0</td>\n",
       "      <td>2023-06-29 18:37:31</td>\n",
       "      <td>241.0</td>\n",
       "      <td>99.0</td>\n",
       "      <td>219.0</td>\n",
       "      <td>1.201984e+07</td>\n",
       "    </tr>\n",
       "    <tr>\n",
       "      <th>std</th>\n",
       "      <td>13170.363363</td>\n",
       "      <td>13873536.242459</td>\n",
       "      <td>0.478344</td>\n",
       "      <td>NaN</td>\n",
       "      <td>2.910549</td>\n",
       "      <td>2.54671</td>\n",
       "      <td>2.138211</td>\n",
       "      <td>3.060536e+05</td>\n",
       "    </tr>\n",
       "  </tbody>\n",
       "</table>\n",
       "</div>"
      ],
      "text/plain": [
       "               U_ID    PROMOTER_U_ID  IS_TREATMENT  \\\n",
       "count       45623.0          29347.0       45623.0   \n",
       "mean   22811.996164  21661038.772549      0.354426   \n",
       "min             1.0         655650.0           0.0   \n",
       "25%         11406.5        8451570.0           0.0   \n",
       "50%         22812.0       18808489.0           0.0   \n",
       "75%         34217.5       36522003.0           1.0   \n",
       "max         45616.0       40557197.0           1.0   \n",
       "std    13170.363363  13873536.242459      0.478344   \n",
       "\n",
       "        WHEN_ENTERED_INTO_EXPERIMENT  COUNT_TRANSFERS  DAYS_TRANSACTING  \\\n",
       "count                          45623          45623.0           45623.0   \n",
       "mean   2023-05-23 04:48:41.669684224         1.013677          0.879995   \n",
       "min              2023-04-18 00:56:14              0.0               0.0   \n",
       "25%       2023-05-13 13:35:21.500000              0.0               0.0   \n",
       "50%              2023-05-25 17:15:51              0.0               0.0   \n",
       "75%              2023-06-01 15:37:50              1.0               1.0   \n",
       "max              2023-06-29 18:37:31            241.0              99.0   \n",
       "std                              NaN         2.910549           2.54671   \n",
       "\n",
       "       DISTINCT_RECEIVERS  TOTAL_TRANSFER_AMOUNT  \n",
       "count             45623.0           1.887700e+04  \n",
       "mean             0.817548           5.374970e+04  \n",
       "min                   0.0           5.000000e+00  \n",
       "25%                   0.0           2.000000e+03  \n",
       "50%                   0.0           5.050000e+03  \n",
       "75%                   1.0           2.938000e+04  \n",
       "max                 219.0           1.201984e+07  \n",
       "std              2.138211           3.060536e+05  "
      ]
     },
     "metadata": {},
     "output_type": "display_data"
    },
    {
     "name": "stdout",
     "output_type": "stream",
     "text": [
      "------------------- VARIANT DISTRIBUTION -------------------\n"
     ]
    },
    {
     "data": {
      "text/plain": [
       "VARIANT\n",
       "CONTROL        29453\n",
       "PRICE_PROMO    16170\n",
       "Name: count, dtype: int64"
      ]
     },
     "metadata": {},
     "output_type": "display_data"
    }
   ],
   "source": [
    "# Quick checks on data\n",
    "print_title('DF INFO')\n",
    "display(df.info())\n",
    "\n",
    "print_title('DF DESCRIBE')\n",
    "display(df.describe())\n",
    "\n",
    "# Check distribution of variants\n",
    "print_title('VARIANT DISTRIBUTION')\n",
    "display(df[variant_column].value_counts())"
   ]
  },
  {
   "cell_type": "markdown",
   "metadata": {},
   "source": [
    "### DUPLICATES"
   ]
  },
  {
   "cell_type": "code",
   "execution_count": 11,
   "metadata": {},
   "outputs": [
    {
     "name": "stdout",
     "output_type": "stream",
     "text": [
      "# of duplicated rows:  0\n",
      "No duplicates in the DataFrame found.\n"
     ]
    }
   ],
   "source": [
    "# Check for and drop duplicates in the entire DataFrame\n",
    "duplicated_rows = df.duplicated().sum()\n",
    "print('# of duplicated rows: ', duplicated_rows)\n",
    "\n",
    "if duplicated_rows > 0:\n",
    "    df = df.drop_duplicates()\n",
    "    print('Duplicates in the DataFrame removed.')\n",
    "else:\n",
    "    print('No duplicates in the DataFrame found.')"
   ]
  },
  {
   "cell_type": "code",
   "execution_count": 12,
   "metadata": {},
   "outputs": [
    {
     "name": "stdout",
     "output_type": "stream",
     "text": [
      "# of duplicated on U_ID column: 7\n",
      "Duplicated U_ID and their rows:\n"
     ]
    },
    {
     "data": {
      "text/html": [
       "<div>\n",
       "<style scoped>\n",
       "    .dataframe tbody tr th:only-of-type {\n",
       "        vertical-align: middle;\n",
       "    }\n",
       "\n",
       "    .dataframe tbody tr th {\n",
       "        vertical-align: top;\n",
       "    }\n",
       "\n",
       "    .dataframe thead th {\n",
       "        text-align: right;\n",
       "    }\n",
       "</style>\n",
       "<table border=\"1\" class=\"dataframe\">\n",
       "  <thead>\n",
       "    <tr style=\"text-align: right;\">\n",
       "      <th></th>\n",
       "      <th>U_ID</th>\n",
       "      <th>VARIANT</th>\n",
       "      <th>USER_SEGMENT</th>\n",
       "      <th>PROMO_TAG</th>\n",
       "      <th>PROMOTER_U_ID</th>\n",
       "      <th>IS_TREATMENT</th>\n",
       "      <th>WHEN_ENTERED_INTO_EXPERIMENT</th>\n",
       "      <th>COUNT_TRANSFERS</th>\n",
       "      <th>DAYS_TRANSACTING</th>\n",
       "      <th>DISTINCT_RECEIVERS</th>\n",
       "      <th>TOTAL_TRANSFER_AMOUNT</th>\n",
       "    </tr>\n",
       "  </thead>\n",
       "  <tbody>\n",
       "    <tr>\n",
       "      <th>45599</th>\n",
       "      <td>45592</td>\n",
       "      <td>PRICE_PROMO</td>\n",
       "      <td>CHURNED</td>\n",
       "      <td>nan</td>\n",
       "      <td>8962332</td>\n",
       "      <td>1</td>\n",
       "      <td>2023-05-09 18:47:20</td>\n",
       "      <td>0</td>\n",
       "      <td>0</td>\n",
       "      <td>0</td>\n",
       "      <td>NaN</td>\n",
       "    </tr>\n",
       "    <tr>\n",
       "      <th>45616</th>\n",
       "      <td>45592</td>\n",
       "      <td>PRICE_PROMO</td>\n",
       "      <td>CHURNED</td>\n",
       "      <td>nan</td>\n",
       "      <td>11369216</td>\n",
       "      <td>1</td>\n",
       "      <td>2023-05-22 18:32:41</td>\n",
       "      <td>0</td>\n",
       "      <td>0</td>\n",
       "      <td>0</td>\n",
       "      <td>NaN</td>\n",
       "    </tr>\n",
       "    <tr>\n",
       "      <th>45600</th>\n",
       "      <td>45593</td>\n",
       "      <td>CONTROL</td>\n",
       "      <td>CHURNED</td>\n",
       "      <td>nan</td>\n",
       "      <td>26351398</td>\n",
       "      <td>0</td>\n",
       "      <td>2023-04-28 10:55:06</td>\n",
       "      <td>0</td>\n",
       "      <td>0</td>\n",
       "      <td>0</td>\n",
       "      <td>NaN</td>\n",
       "    </tr>\n",
       "    <tr>\n",
       "      <th>45617</th>\n",
       "      <td>45593</td>\n",
       "      <td>PRICE_PROMO</td>\n",
       "      <td>CHURNED</td>\n",
       "      <td>nan</td>\n",
       "      <td>11369216</td>\n",
       "      <td>1</td>\n",
       "      <td>2023-04-18 00:56:14</td>\n",
       "      <td>0</td>\n",
       "      <td>0</td>\n",
       "      <td>0</td>\n",
       "      <td>NaN</td>\n",
       "    </tr>\n",
       "    <tr>\n",
       "      <th>18887</th>\n",
       "      <td>45594</td>\n",
       "      <td>PRICE_PROMO</td>\n",
       "      <td>CHURNED</td>\n",
       "      <td>nan</td>\n",
       "      <td>38443462</td>\n",
       "      <td>1</td>\n",
       "      <td>2023-05-20 13:26:49</td>\n",
       "      <td>1</td>\n",
       "      <td>1</td>\n",
       "      <td>1</td>\n",
       "      <td>2500.0</td>\n",
       "    </tr>\n",
       "    <tr>\n",
       "      <th>45618</th>\n",
       "      <td>45594</td>\n",
       "      <td>PRICE_PROMO</td>\n",
       "      <td>CHURNED</td>\n",
       "      <td>nan</td>\n",
       "      <td>11369216</td>\n",
       "      <td>1</td>\n",
       "      <td>2023-04-18 00:56:14</td>\n",
       "      <td>0</td>\n",
       "      <td>0</td>\n",
       "      <td>0</td>\n",
       "      <td>NaN</td>\n",
       "    </tr>\n",
       "    <tr>\n",
       "      <th>45601</th>\n",
       "      <td>45595</td>\n",
       "      <td>PRICE_PROMO</td>\n",
       "      <td>CHURNED</td>\n",
       "      <td>nan</td>\n",
       "      <td>2903573</td>\n",
       "      <td>1</td>\n",
       "      <td>2023-05-10 16:58:04</td>\n",
       "      <td>0</td>\n",
       "      <td>0</td>\n",
       "      <td>0</td>\n",
       "      <td>NaN</td>\n",
       "    </tr>\n",
       "    <tr>\n",
       "      <th>45619</th>\n",
       "      <td>45595</td>\n",
       "      <td>PRICE_PROMO</td>\n",
       "      <td>CHURNED</td>\n",
       "      <td>nan</td>\n",
       "      <td>11369216</td>\n",
       "      <td>1</td>\n",
       "      <td>2023-04-18 00:56:14</td>\n",
       "      <td>0</td>\n",
       "      <td>0</td>\n",
       "      <td>0</td>\n",
       "      <td>NaN</td>\n",
       "    </tr>\n",
       "    <tr>\n",
       "      <th>18888</th>\n",
       "      <td>45596</td>\n",
       "      <td>CONTROL</td>\n",
       "      <td>CHURNED</td>\n",
       "      <td>nan</td>\n",
       "      <td>29387022</td>\n",
       "      <td>0</td>\n",
       "      <td>2023-05-15 11:13:23</td>\n",
       "      <td>1</td>\n",
       "      <td>1</td>\n",
       "      <td>1</td>\n",
       "      <td>1010.0</td>\n",
       "    </tr>\n",
       "    <tr>\n",
       "      <th>45620</th>\n",
       "      <td>45596</td>\n",
       "      <td>PRICE_PROMO</td>\n",
       "      <td>CHURNED</td>\n",
       "      <td>nan</td>\n",
       "      <td>11369216</td>\n",
       "      <td>1</td>\n",
       "      <td>2023-04-18 00:56:14</td>\n",
       "      <td>0</td>\n",
       "      <td>0</td>\n",
       "      <td>0</td>\n",
       "      <td>NaN</td>\n",
       "    </tr>\n",
       "    <tr>\n",
       "      <th>18889</th>\n",
       "      <td>45597</td>\n",
       "      <td>CONTROL</td>\n",
       "      <td>CHURNED</td>\n",
       "      <td>nan</td>\n",
       "      <td>36522425</td>\n",
       "      <td>0</td>\n",
       "      <td>2023-05-10 10:08:51</td>\n",
       "      <td>1</td>\n",
       "      <td>1</td>\n",
       "      <td>1</td>\n",
       "      <td>10000.0</td>\n",
       "    </tr>\n",
       "    <tr>\n",
       "      <th>45621</th>\n",
       "      <td>45597</td>\n",
       "      <td>PRICE_PROMO</td>\n",
       "      <td>CHURNED</td>\n",
       "      <td>nan</td>\n",
       "      <td>11369216</td>\n",
       "      <td>1</td>\n",
       "      <td>2023-04-18 00:56:14</td>\n",
       "      <td>0</td>\n",
       "      <td>0</td>\n",
       "      <td>0</td>\n",
       "      <td>NaN</td>\n",
       "    </tr>\n",
       "    <tr>\n",
       "      <th>18890</th>\n",
       "      <td>45598</td>\n",
       "      <td>PRICE_PROMO</td>\n",
       "      <td>CHURNED</td>\n",
       "      <td>nan</td>\n",
       "      <td>21980696</td>\n",
       "      <td>1</td>\n",
       "      <td>2023-05-15 11:27:18</td>\n",
       "      <td>1</td>\n",
       "      <td>1</td>\n",
       "      <td>1</td>\n",
       "      <td>1000.0</td>\n",
       "    </tr>\n",
       "    <tr>\n",
       "      <th>45622</th>\n",
       "      <td>45598</td>\n",
       "      <td>PRICE_PROMO</td>\n",
       "      <td>CHURNED</td>\n",
       "      <td>nan</td>\n",
       "      <td>11369216</td>\n",
       "      <td>1</td>\n",
       "      <td>2023-04-18 00:56:14</td>\n",
       "      <td>0</td>\n",
       "      <td>0</td>\n",
       "      <td>0</td>\n",
       "      <td>NaN</td>\n",
       "    </tr>\n",
       "  </tbody>\n",
       "</table>\n",
       "</div>"
      ],
      "text/plain": [
       "        U_ID      VARIANT USER_SEGMENT PROMO_TAG  PROMOTER_U_ID  IS_TREATMENT  \\\n",
       "45599  45592  PRICE_PROMO      CHURNED       nan        8962332             1   \n",
       "45616  45592  PRICE_PROMO      CHURNED       nan       11369216             1   \n",
       "45600  45593      CONTROL      CHURNED       nan       26351398             0   \n",
       "45617  45593  PRICE_PROMO      CHURNED       nan       11369216             1   \n",
       "18887  45594  PRICE_PROMO      CHURNED       nan       38443462             1   \n",
       "45618  45594  PRICE_PROMO      CHURNED       nan       11369216             1   \n",
       "45601  45595  PRICE_PROMO      CHURNED       nan        2903573             1   \n",
       "45619  45595  PRICE_PROMO      CHURNED       nan       11369216             1   \n",
       "18888  45596      CONTROL      CHURNED       nan       29387022             0   \n",
       "45620  45596  PRICE_PROMO      CHURNED       nan       11369216             1   \n",
       "18889  45597      CONTROL      CHURNED       nan       36522425             0   \n",
       "45621  45597  PRICE_PROMO      CHURNED       nan       11369216             1   \n",
       "18890  45598  PRICE_PROMO      CHURNED       nan       21980696             1   \n",
       "45622  45598  PRICE_PROMO      CHURNED       nan       11369216             1   \n",
       "\n",
       "      WHEN_ENTERED_INTO_EXPERIMENT  COUNT_TRANSFERS  DAYS_TRANSACTING  \\\n",
       "45599          2023-05-09 18:47:20                0                 0   \n",
       "45616          2023-05-22 18:32:41                0                 0   \n",
       "45600          2023-04-28 10:55:06                0                 0   \n",
       "45617          2023-04-18 00:56:14                0                 0   \n",
       "18887          2023-05-20 13:26:49                1                 1   \n",
       "45618          2023-04-18 00:56:14                0                 0   \n",
       "45601          2023-05-10 16:58:04                0                 0   \n",
       "45619          2023-04-18 00:56:14                0                 0   \n",
       "18888          2023-05-15 11:13:23                1                 1   \n",
       "45620          2023-04-18 00:56:14                0                 0   \n",
       "18889          2023-05-10 10:08:51                1                 1   \n",
       "45621          2023-04-18 00:56:14                0                 0   \n",
       "18890          2023-05-15 11:27:18                1                 1   \n",
       "45622          2023-04-18 00:56:14                0                 0   \n",
       "\n",
       "       DISTINCT_RECEIVERS  TOTAL_TRANSFER_AMOUNT  \n",
       "45599                   0                    NaN  \n",
       "45616                   0                    NaN  \n",
       "45600                   0                    NaN  \n",
       "45617                   0                    NaN  \n",
       "18887                   1                 2500.0  \n",
       "45618                   0                    NaN  \n",
       "45601                   0                    NaN  \n",
       "45619                   0                    NaN  \n",
       "18888                   1                 1010.0  \n",
       "45620                   0                    NaN  \n",
       "18889                   1                10000.0  \n",
       "45621                   0                    NaN  \n",
       "18890                   1                 1000.0  \n",
       "45622                   0                    NaN  "
      ]
     },
     "metadata": {},
     "output_type": "display_data"
    },
    {
     "name": "stdout",
     "output_type": "stream",
     "text": [
      "Kept the most recent row for each duplicatedU_ID\n"
     ]
    }
   ],
   "source": [
    "primary_key_column = 'U_ID'\n",
    "timestamp_column = ''\n",
    "\n",
    "# Check for duplicates in the unique columns\n",
    "duplicated_rows = df[df[primary_key_column].duplicated(keep=False)]\n",
    "print(f'# of duplicated on {primary_key_column} column: {duplicated_rows[primary_key_column].nunique()}')\n",
    "\n",
    "if not duplicated_rows.empty:\n",
    "    print(f'Duplicated {primary_key_column} and their rows:')\n",
    "    display(duplicated_rows.sort_values(by = primary_key_column))\n",
    "\n",
    "    # Keep only the first following timestamp column order\n",
    "    if timestamp_column == '':\n",
    "        df = df.drop_duplicates(subset=primary_key_column, keep='last')\n",
    "        print('Kept the most recent row for each duplicated' +  primary_key_column)\n",
    "    else:\n",
    "        df = df.sort_values(timestamp_column).drop_duplicates(subset=primary_key_column, keep='last')\n",
    "        print('Kept the most recent row for each duplicated ' + primary_key_column)"
   ]
  },
  {
   "cell_type": "markdown",
   "metadata": {},
   "source": [
    "### NULLS"
   ]
  },
  {
   "cell_type": "code",
   "execution_count": 13,
   "metadata": {},
   "outputs": [
    {
     "name": "stdout",
     "output_type": "stream",
     "text": [
      "------------------ NUMBER OF NULL VALUES ------------------\n",
      "U_ID                                0\n",
      "VARIANT                             0\n",
      "USER_SEGMENT                        0\n",
      "PROMO_TAG                           0\n",
      "PROMOTER_U_ID                   16276\n",
      "IS_TREATMENT                        0\n",
      "WHEN_ENTERED_INTO_EXPERIMENT        0\n",
      "COUNT_TRANSFERS                     0\n",
      "DAYS_TRANSACTING                    0\n",
      "DISTINCT_RECEIVERS                  0\n",
      "TOTAL_TRANSFER_AMOUNT           26743\n",
      "dtype: int64\n"
     ]
    }
   ],
   "source": [
    "# Check for missing values\n",
    "missing_values = df.isnull().sum()\n",
    "print_title('NUMBER OF NULL VALUES')\n",
    "print(missing_values)"
   ]
  },
  {
   "cell_type": "code",
   "execution_count": 14,
   "metadata": {},
   "outputs": [],
   "source": [
    "# Fill null columns\n",
    "df['TOTAL_TRANSFER_AMOUNT'] = df['TOTAL_TRANSFER_AMOUNT'].fillna(0)"
   ]
  },
  {
   "cell_type": "markdown",
   "metadata": {},
   "source": [
    "### INCONSISTENCIES"
   ]
  },
  {
   "cell_type": "code",
   "execution_count": 15,
   "metadata": {},
   "outputs": [
    {
     "data": {
      "text/html": [
       "<div>\n",
       "<style scoped>\n",
       "    .dataframe tbody tr th:only-of-type {\n",
       "        vertical-align: middle;\n",
       "    }\n",
       "\n",
       "    .dataframe tbody tr th {\n",
       "        vertical-align: top;\n",
       "    }\n",
       "\n",
       "    .dataframe thead th {\n",
       "        text-align: right;\n",
       "    }\n",
       "</style>\n",
       "<table border=\"1\" class=\"dataframe\">\n",
       "  <thead>\n",
       "    <tr style=\"text-align: right;\">\n",
       "      <th></th>\n",
       "      <th>U_ID</th>\n",
       "      <th>VARIANT</th>\n",
       "      <th>USER_SEGMENT</th>\n",
       "      <th>PROMO_TAG</th>\n",
       "      <th>PROMOTER_U_ID</th>\n",
       "      <th>IS_TREATMENT</th>\n",
       "      <th>WHEN_ENTERED_INTO_EXPERIMENT</th>\n",
       "      <th>COUNT_TRANSFERS</th>\n",
       "      <th>DAYS_TRANSACTING</th>\n",
       "      <th>DISTINCT_RECEIVERS</th>\n",
       "      <th>TOTAL_TRANSFER_AMOUNT</th>\n",
       "    </tr>\n",
       "  </thead>\n",
       "  <tbody>\n",
       "  </tbody>\n",
       "</table>\n",
       "</div>"
      ],
      "text/plain": [
       "Empty DataFrame\n",
       "Columns: [U_ID, VARIANT, USER_SEGMENT, PROMO_TAG, PROMOTER_U_ID, IS_TREATMENT, WHEN_ENTERED_INTO_EXPERIMENT, COUNT_TRANSFERS, DAYS_TRANSACTING, DISTINCT_RECEIVERS, TOTAL_TRANSFER_AMOUNT]\n",
       "Index: []"
      ]
     },
     "metadata": {},
     "output_type": "display_data"
    },
    {
     "data": {
      "text/html": [
       "<div>\n",
       "<style scoped>\n",
       "    .dataframe tbody tr th:only-of-type {\n",
       "        vertical-align: middle;\n",
       "    }\n",
       "\n",
       "    .dataframe tbody tr th {\n",
       "        vertical-align: top;\n",
       "    }\n",
       "\n",
       "    .dataframe thead th {\n",
       "        text-align: right;\n",
       "    }\n",
       "</style>\n",
       "<table border=\"1\" class=\"dataframe\">\n",
       "  <thead>\n",
       "    <tr style=\"text-align: right;\">\n",
       "      <th></th>\n",
       "      <th>U_ID</th>\n",
       "      <th>VARIANT</th>\n",
       "      <th>USER_SEGMENT</th>\n",
       "      <th>PROMO_TAG</th>\n",
       "      <th>PROMOTER_U_ID</th>\n",
       "      <th>IS_TREATMENT</th>\n",
       "      <th>WHEN_ENTERED_INTO_EXPERIMENT</th>\n",
       "      <th>COUNT_TRANSFERS</th>\n",
       "      <th>DAYS_TRANSACTING</th>\n",
       "      <th>DISTINCT_RECEIVERS</th>\n",
       "      <th>TOTAL_TRANSFER_AMOUNT</th>\n",
       "    </tr>\n",
       "  </thead>\n",
       "  <tbody>\n",
       "  </tbody>\n",
       "</table>\n",
       "</div>"
      ],
      "text/plain": [
       "Empty DataFrame\n",
       "Columns: [U_ID, VARIANT, USER_SEGMENT, PROMO_TAG, PROMOTER_U_ID, IS_TREATMENT, WHEN_ENTERED_INTO_EXPERIMENT, COUNT_TRANSFERS, DAYS_TRANSACTING, DISTINCT_RECEIVERS, TOTAL_TRANSFER_AMOUNT]\n",
       "Index: []"
      ]
     },
     "metadata": {},
     "output_type": "display_data"
    }
   ],
   "source": [
    "# Checks errors in variant labeling\n",
    "checks = df[(df['IS_TREATMENT'] == 1) & (df['VARIANT'] != 'PRICE_PROMO')]\n",
    "display(checks)\n",
    "checks = df[(df['IS_TREATMENT'] == 0) & (df['VARIANT'] != 'CONTROL')]\n",
    "display(checks)"
   ]
  },
  {
   "cell_type": "markdown",
   "metadata": {},
   "source": [
    "## METRICS DEFINITION"
   ]
  },
  {
   "cell_type": "code",
   "execution_count": 16,
   "metadata": {},
   "outputs": [
    {
     "name": "stderr",
     "output_type": "stream",
     "text": [
      "/var/folders/hv/ckh3m6gn1sd45q2qctrqcwzh0000gn/T/ipykernel_62290/2439425549.py:3: FutureWarning: the convert_dtype parameter is deprecated and will be removed in a future version.  Do ``ser.astype(object).apply()`` instead if you want ``convert_dtype=False``.\n",
      "  df['metric_cvr_transaction'] = df['TOTAL_TRANSFER_AMOUNT'].apply(lambda x: 1 if x > 0 else 0, 1)\n"
     ]
    }
   ],
   "source": [
    "# calculate the metrics, use metric_cnt_ or metric_cvr_\n",
    "df['metric_cnt_total_transfer_amount'] = df['TOTAL_TRANSFER_AMOUNT']\n",
    "df['metric_cvr_transaction'] = df['TOTAL_TRANSFER_AMOUNT'].apply(lambda x: 1 if x > 0 else 0, 1)"
   ]
  },
  {
   "cell_type": "markdown",
   "metadata": {},
   "source": [
    "## DATA ANALYSIS"
   ]
  },
  {
   "cell_type": "code",
   "execution_count": 17,
   "metadata": {},
   "outputs": [
    {
     "name": "stdout",
     "output_type": "stream",
     "text": [
      "Low outlier limit: -5650.0\n",
      "Upper outlier limit: 11300.0\n",
      "Filtered 7183 rows (15.75%) from 45616 to 38433\n",
      "is_strong_outlier_effect: True\n"
     ]
    },
    {
     "data": {
      "text/html": [
       "<div>\n",
       "<style scoped>\n",
       "    .dataframe tbody tr th:only-of-type {\n",
       "        vertical-align: middle;\n",
       "    }\n",
       "\n",
       "    .dataframe tbody tr th {\n",
       "        vertical-align: top;\n",
       "    }\n",
       "\n",
       "    .dataframe thead th {\n",
       "        text-align: right;\n",
       "    }\n",
       "</style>\n",
       "<table border=\"1\" class=\"dataframe\">\n",
       "  <thead>\n",
       "    <tr style=\"text-align: right;\">\n",
       "      <th></th>\n",
       "      <th>U_ID</th>\n",
       "      <th>VARIANT</th>\n",
       "      <th>metric_cnt_total_transfer_amount</th>\n",
       "    </tr>\n",
       "  </thead>\n",
       "  <tbody>\n",
       "    <tr>\n",
       "      <th>11449</th>\n",
       "      <td>17864</td>\n",
       "      <td>PRICE_PROMO</td>\n",
       "      <td>1000.0</td>\n",
       "    </tr>\n",
       "    <tr>\n",
       "      <th>26437</th>\n",
       "      <td>15960</td>\n",
       "      <td>CONTROL</td>\n",
       "      <td>0.0</td>\n",
       "    </tr>\n",
       "    <tr>\n",
       "      <th>33674</th>\n",
       "      <td>29191</td>\n",
       "      <td>CONTROL</td>\n",
       "      <td>0.0</td>\n",
       "    </tr>\n",
       "    <tr>\n",
       "      <th>33018</th>\n",
       "      <td>28310</td>\n",
       "      <td>PRICE_PROMO</td>\n",
       "      <td>0.0</td>\n",
       "    </tr>\n",
       "    <tr>\n",
       "      <th>13399</th>\n",
       "      <td>21704</td>\n",
       "      <td>PRICE_PROMO</td>\n",
       "      <td>10000.0</td>\n",
       "    </tr>\n",
       "  </tbody>\n",
       "</table>\n",
       "</div>"
      ],
      "text/plain": [
       "        U_ID      VARIANT  metric_cnt_total_transfer_amount\n",
       "11449  17864  PRICE_PROMO                            1000.0\n",
       "26437  15960      CONTROL                               0.0\n",
       "33674  29191      CONTROL                               0.0\n",
       "33018  28310  PRICE_PROMO                               0.0\n",
       "13399  21704  PRICE_PROMO                           10000.0"
      ]
     },
     "metadata": {},
     "output_type": "display_data"
    }
   ],
   "source": [
    "# Select metrics and columns involved in the test\n",
    "primary_key_column = 'U_ID'\n",
    "metric_column = 'metric_cnt_total_transfer_amount'\n",
    "variant_column = 'VARIANT'\n",
    "\n",
    "columns_selection_df = df[[primary_key_column, variant_column, metric_column]]\n",
    "metric_type = (\n",
    "    'continuous' if metric_column.startswith('metric_cnt_') else\n",
    "    'proportion' if metric_column.startswith('metric_cvr_') else\n",
    "    None\n",
    ")\n",
    "outliers_filtered_df, is_strong_outlier_effect = analysis.remove_outliers(columns_selection_df, metric_column, 1)\n",
    "\n",
    "# Filter outliers:\n",
    "filter_outliers = False\n",
    "\n",
    "if filter_outliers:\n",
    "    selected_df = outliers_filtered_df.copy()\n",
    "else:\n",
    "    selected_df = columns_selection_df.copy()\n",
    "\n",
    "display(selected_df.sample(5))"
   ]
  },
  {
   "cell_type": "markdown",
   "metadata": {},
   "source": [
    "### NUMBER OF VARIANTS"
   ]
  },
  {
   "cell_type": "code",
   "execution_count": 19,
   "metadata": {},
   "outputs": [
    {
     "name": "stdout",
     "output_type": "stream",
     "text": [
      "Number of Variants: 2\n",
      "Variants: ['CONTROL' 'PRICE_PROMO']\n"
     ]
    }
   ],
   "source": [
    "num_variants = selected_df[variant_column].nunique()\n",
    "\n",
    "print(f\"Number of Variants: {num_variants}\")\n",
    "print(f\"Variants: {selected_df[variant_column].unique()}\")"
   ]
  },
  {
   "cell_type": "markdown",
   "metadata": {},
   "source": [
    "### SAMPLE SIZES"
   ]
  },
  {
   "cell_type": "code",
   "execution_count": 20,
   "metadata": {},
   "outputs": [
    {
     "name": "stdout",
     "output_type": "stream",
     "text": [
      "Sample sizes per variant:\n",
      "VARIANT\n",
      "CONTROL        29450\n",
      "PRICE_PROMO    16166\n",
      "Name: count, dtype: int64\n",
      "\n",
      "Proportion per variant:\n",
      "VARIANT\n",
      "CONTROL        0.645607\n",
      "PRICE_PROMO    0.354393\n",
      "Name: count, dtype: float64\n",
      "\n",
      "Variant Ratio (N = max/min): 1.82\n"
     ]
    }
   ],
   "source": [
    "# check if the sample size is large enough\n",
    "# check if the variant sizes ar equal or not and the proportion\n",
    "\n",
    "sample_sizes = selected_df[variant_column].value_counts()\n",
    "print(\"Sample sizes per variant:\")\n",
    "print(sample_sizes)\n",
    "\n",
    "variant_proportion = sample_sizes / sample_sizes.sum()\n",
    "print(\"\\nProportion per variant:\")\n",
    "print(variant_proportion)\n",
    "\n",
    "variant_ratio = sample_sizes.max() / sample_sizes.min()\n",
    "print(f\"\\nVariant Ratio (N = max/min): {variant_ratio:.2f}\")"
   ]
  },
  {
   "cell_type": "markdown",
   "metadata": {},
   "source": [
    "### SAMPLE DISTRIBUTION"
   ]
  },
  {
   "cell_type": "code",
   "execution_count": 21,
   "metadata": {},
   "outputs": [
    {
     "name": "stdout",
     "output_type": "stream",
     "text": [
      "----------------------------------------- NORMAL DISTRIBUTION VISUAL ANALYSIS -----------------------------------------\n"
     ]
    },
    {
     "data": {
      "image/png": "[encoded data removed]",
      "text/plain": [
       "<Figure size 1200x400 with 2 Axes>"
      ]
     },
     "metadata": {},
     "output_type": "display_data"
    },
    {
     "data": {
      "image/png": "[encoded data removed]",
      "text/plain": [
       "<Figure size 1200x400 with 2 Axes>"
      ]
     },
     "metadata": {},
     "output_type": "display_data"
    },
    {
     "data": {
      "image/png": "[encoded data removed]",
      "text/plain": [
       "<Figure size 1200x400 with 1 Axes>"
      ]
     },
     "metadata": {},
     "output_type": "display_data"
    },
    {
     "data": {
      "image/png": "[encoded data removed]",
      "text/plain": [
       "<Figure size 1200x400 with 1 Axes>"
      ]
     },
     "metadata": {},
     "output_type": "display_data"
    },
    {
     "name": "stdout",
     "output_type": "stream",
     "text": [
      "------------------------------------------- NORMAL DISTRIBUTION TEST RESULTS -------------------------------------------\n",
      "variant CONTROL: normaltest statistic = 77289.8714, p-value = 0.0000\n",
      "variant PRICE_PROMO: normaltest statistic = 40890.9570, p-value = 0.0000\n",
      "\n",
      "USE NORMAL DISTRIBUTION TESTS: False\n"
     ]
    }
   ],
   "source": [
    "sns.set_style(\"white\")\n",
    "print_title('NORMAL DISTRIBUTION VISUAL ANALYSIS', 120)\n",
    "analysis.plot_qq(selected_df, variant_column, metric_column)\n",
    "analysis.plot_histogram_kde(selected_df, variant_column, metric_column)\n",
    "analysis.plot_violin(selected_df, variant_column, metric_column)\n",
    "analysis.plot_combined_kde(selected_df, variant_column, metric_column)\n",
    "\n",
    "print_title('NORMAL DISTRIBUTION TEST RESULTS', 120)\n",
    "distribution_results = analysis.calculate_distribution(selected_df, variant_column, metric_column)\n",
    "\n",
    "is_normal_distribution = analysis.set_normal_distribution_flag(distribution_results, alpha=0.05)\n",
    "print(f'\\nUSE NORMAL DISTRIBUTION TESTS: {is_normal_distribution}')"
   ]
  },
  {
   "cell_type": "markdown",
   "metadata": {},
   "source": [
    "### SAMPLE VARIANCES"
   ]
  },
  {
   "cell_type": "code",
   "execution_count": 22,
   "metadata": {},
   "outputs": [
    {
     "name": "stdout",
     "output_type": "stream",
     "text": [
      "------------------------------------------------------------------------------ VARIANCE TEST RESULTS ------------------------------------------------------------------------------\n",
      "Levene test statistic = 27.2777, p_value = 0.0000\n",
      "Equal variance assumption: False\n",
      "\n",
      "USE EQUAL VARIANCE TESTS: False\n"
     ]
    }
   ],
   "source": [
    "print_title('VARIANCE TEST RESULTS', 180)\n",
    "variance_results = analysis.calculate_variance_analysis(selected_df, variant_column, metric_column)\n",
    "\n",
    "is_equal_variance = analysis.set_equal_variance_flag(variance_results, alpha=0.05)\n",
    "print(f'\\nUSE EQUAL VARIANCE TESTS: {is_equal_variance}')"
   ]
  },
  {
   "cell_type": "markdown",
   "metadata": {},
   "source": [
    "## STATISTICAL TESTING"
   ]
  },
  {
   "cell_type": "markdown",
   "metadata": {},
   "source": [
    "### TEST AND TECHNICHES SELECTION"
   ]
  },
  {
   "cell_type": "code",
   "execution_count": 23,
   "metadata": {},
   "outputs": [
    {
     "name": "stdout",
     "output_type": "stream",
     "text": [
      "---------------------- TEST VARIABLES ----------------------\n",
      "metric_type: continuous\n",
      "is_normal_distribution: False\n",
      "is_equal_variance: False\n",
      "num_variants: 2\n",
      "sample_sizes: VARIANT\n",
      "CONTROL        29450\n",
      "PRICE_PROMO    16166\n",
      "Name: count, dtype: int64\n",
      "variant_ratio: 1.82\n",
      "is_strong_outlier_effect: True\n",
      "\n",
      "\n",
      "---------------------- TEST SELECTION ----------------------\n",
      "{'use_mann_whitney_u_test': True, 'use_bayesian_test': True}\n"
     ]
    }
   ],
   "source": [
    "print_title('TEST VARIABLES', 60)\n",
    "ab_test_config = ab_tests.configure_ab_test(metric_type, is_equal_variance, is_normal_distribution, num_variants, variant_ratio, sample_sizes, is_strong_outlier_effect)\n",
    "print('\\n')\n",
    "print_title('TEST SELECTION', 60)\n",
    "print({key: value for key, value in ab_test_config.items() if value})"
   ]
  },
  {
   "cell_type": "markdown",
   "metadata": {},
   "source": [
    "### UNBALANCE DATA"
   ]
  },
  {
   "cell_type": "code",
   "execution_count": 24,
   "metadata": {},
   "outputs": [],
   "source": [
    "selected_df = ab_tests.resample_data(selected_df, ab_test_config, variant_column)"
   ]
  },
  {
   "cell_type": "markdown",
   "metadata": {},
   "source": [
    "### TESTS"
   ]
  },
  {
   "cell_type": "code",
   "execution_count": 26,
   "metadata": {},
   "outputs": [
    {
     "name": "stdout",
     "output_type": "stream",
     "text": [
      "--------------------------------- TEST RESULTS ---------------------------------\n"
     ]
    },
    {
     "data": {
      "text/html": [
       "<div>\n",
       "<style scoped>\n",
       "    .dataframe tbody tr th:only-of-type {\n",
       "        vertical-align: middle;\n",
       "    }\n",
       "\n",
       "    .dataframe tbody tr th {\n",
       "        vertical-align: top;\n",
       "    }\n",
       "\n",
       "    .dataframe thead th {\n",
       "        text-align: right;\n",
       "    }\n",
       "</style>\n",
       "<table border=\"1\" class=\"dataframe\">\n",
       "  <thead>\n",
       "    <tr style=\"text-align: right;\">\n",
       "      <th></th>\n",
       "      <th>group1</th>\n",
       "      <th>group2</th>\n",
       "      <th>p_value</th>\n",
       "      <th>significant</th>\n",
       "    </tr>\n",
       "  </thead>\n",
       "  <tbody>\n",
       "    <tr>\n",
       "      <th>0</th>\n",
       "      <td>CONTROL</td>\n",
       "      <td>PRICE_PROMO</td>\n",
       "      <td>2.924410e-14</td>\n",
       "      <td>True</td>\n",
       "    </tr>\n",
       "  </tbody>\n",
       "</table>\n",
       "</div>"
      ],
      "text/plain": [
       "    group1       group2       p_value  significant\n",
       "0  CONTROL  PRICE_PROMO  2.924410e-14         True"
      ]
     },
     "metadata": {},
     "output_type": "display_data"
    },
    {
     "name": "stdout",
     "output_type": "stream",
     "text": [
      "-------------------------------- TEST SELECTION --------------------------------\n",
      "{'use_mann_whitney_u_test': True, 'use_bayesian_test': True}\n"
     ]
    },
    {
     "data": {
      "image/png": "[encoded data removed]",
      "text/plain": [
       "<Figure size 1600x400 with 1 Axes>"
      ]
     },
     "metadata": {},
     "output_type": "display_data"
    }
   ],
   "source": [
    "print_title('TEST RESULTS', 80)\n",
    "standardized_results = ab_tests.run_complete_ab_test(ab_test_config, selected_df, variant_column, metric_column, num_variants, alpha = 0.05)\n",
    "display(standardized_results)\n",
    "\n",
    "print_title('TEST SELECTION', 80)\n",
    "print({key: value for key, value in ab_test_config.items() if value})\n",
    "\n",
    "framework.plot_distributions(selected_df, variant_column, metric_column, 0.05)"
   ]
  },
  {
   "cell_type": "markdown",
   "metadata": {},
   "source": [
    "### ADDITIONAL TECHNIQUES"
   ]
  },
  {
   "cell_type": "code",
   "execution_count": 27,
   "metadata": {},
   "outputs": [
    {
     "data": {
      "text/plain": [
       "{'pairwise_tests': {'CONTROL vs PRICE_PROMO': {'bayesian_mean_difference': -10152.741375630214,\n",
       "   'bayesian_probability': 0.4914}}}"
      ]
     },
     "metadata": {},
     "output_type": "display_data"
    }
   ],
   "source": [
    "additional_tests_results = ab_tests.apply_additional_tests(ab_test_config, selected_df, variant_column, metric_column)\n",
    "display(additional_tests_results)"
   ]
  }
 ],
 "metadata": {
  "kernelspec": {
   "display_name": "ab-env",
   "language": "python",
   "name": "python3"
  },
  "language_info": {
   "codemirror_mode": {
    "name": "ipython",
    "version": 3
   },
   "file_extension": ".py",
   "mimetype": "text/x-python",
   "name": "python",
   "nbconvert_exporter": "python",
   "pygments_lexer": "ipython3",
   "version": "3.10.16"
  }
 },
 "nbformat": 4,
 "nbformat_minor": 2
}
