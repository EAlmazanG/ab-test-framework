{
 "cells": [
  {
   "cell_type": "code",
   "execution_count": 2,
   "metadata": {},
   "outputs": [],
   "source": [
    "import os\n",
    "import sys\n",
    "sys.path.append(os.path.abspath(os.path.join('..')))\n",
    "\n",
    "import pandas as pd\n",
    "import numpy as np\n",
    "import math\n",
    "import itertools\n",
    "import re\n",
    "import json\n",
    "\n",
    "import matplotlib.pyplot as plt\n",
    "import seaborn as sns"
   ]
  },
  {
   "cell_type": "code",
   "execution_count": 3,
   "metadata": {},
   "outputs": [],
   "source": [
    "from src import analysis\n",
    "from src import framework\n",
    "from src import ab_tests\n",
    "from src.framework import print_title"
   ]
  },
  {
   "cell_type": "code",
   "execution_count": 4,
   "metadata": {},
   "outputs": [
    {
     "data": {
      "text/plain": [
       "<module 'src.ab_tests' from '/Users/jobandtalent/Documents/GitHub/ab-test-framework/src/ab_tests.py'>"
      ]
     },
     "execution_count": 4,
     "metadata": {},
     "output_type": "execute_result"
    }
   ],
   "source": [
    "import importlib\n",
    "importlib.reload(analysis)\n",
    "importlib.reload(framework)\n",
    "importlib.reload(ab_tests)"
   ]
  },
  {
   "cell_type": "markdown",
   "metadata": {},
   "source": [
    "# EXPERIMENT DESIGN"
   ]
  },
  {
   "cell_type": "markdown",
   "metadata": {},
   "source": [
    "#### SOURCES INGESTION"
   ]
  },
  {
   "cell_type": "code",
   "execution_count": 8,
   "metadata": {},
   "outputs": [
    {
     "data": {
      "text/html": [
       "<div>\n",
       "<style scoped>\n",
       "    .dataframe tbody tr th:only-of-type {\n",
       "        vertical-align: middle;\n",
       "    }\n",
       "\n",
       "    .dataframe tbody tr th {\n",
       "        vertical-align: top;\n",
       "    }\n",
       "\n",
       "    .dataframe thead th {\n",
       "        text-align: right;\n",
       "    }\n",
       "</style>\n",
       "<table border=\"1\" class=\"dataframe\">\n",
       "  <thead>\n",
       "    <tr style=\"text-align: right;\">\n",
       "      <th></th>\n",
       "      <th>Unnamed: 0</th>\n",
       "      <th>u_id</th>\n",
       "      <th>platform</th>\n",
       "      <th>variant</th>\n",
       "      <th>duration</th>\n",
       "      <th>is_completed</th>\n",
       "      <th>event_at</th>\n",
       "    </tr>\n",
       "  </thead>\n",
       "  <tbody>\n",
       "    <tr>\n",
       "      <th>0</th>\n",
       "      <td>0</td>\n",
       "      <td>0</td>\n",
       "      <td>apple</td>\n",
       "      <td>0</td>\n",
       "      <td>75.0</td>\n",
       "      <td>True</td>\n",
       "      <td>2023-10-18 19:00:52.284</td>\n",
       "    </tr>\n",
       "    <tr>\n",
       "      <th>1</th>\n",
       "      <td>1</td>\n",
       "      <td>1</td>\n",
       "      <td>apple</td>\n",
       "      <td>0</td>\n",
       "      <td>24.0</td>\n",
       "      <td>False</td>\n",
       "      <td>2024-02-09 02:28:41.894</td>\n",
       "    </tr>\n",
       "    <tr>\n",
       "      <th>2</th>\n",
       "      <td>2</td>\n",
       "      <td>2</td>\n",
       "      <td>apple</td>\n",
       "      <td>0</td>\n",
       "      <td>54.0</td>\n",
       "      <td>True</td>\n",
       "      <td>2024-02-10 02:55:37.475</td>\n",
       "    </tr>\n",
       "    <tr>\n",
       "      <th>3</th>\n",
       "      <td>3</td>\n",
       "      <td>3</td>\n",
       "      <td>apple</td>\n",
       "      <td>0</td>\n",
       "      <td>128.0</td>\n",
       "      <td>True</td>\n",
       "      <td>2024-02-10 02:46:21.855</td>\n",
       "    </tr>\n",
       "    <tr>\n",
       "      <th>4</th>\n",
       "      <td>4</td>\n",
       "      <td>4</td>\n",
       "      <td>apple</td>\n",
       "      <td>0</td>\n",
       "      <td>27.0</td>\n",
       "      <td>True</td>\n",
       "      <td>2023-09-01 23:51:13.967</td>\n",
       "    </tr>\n",
       "  </tbody>\n",
       "</table>\n",
       "</div>"
      ],
      "text/plain": [
       "   Unnamed: 0  u_id platform  variant  duration  is_completed  \\\n",
       "0           0     0    apple        0      75.0          True   \n",
       "1           1     1    apple        0      24.0         False   \n",
       "2           2     2    apple        0      54.0          True   \n",
       "3           3     3    apple        0     128.0          True   \n",
       "4           4     4    apple        0      27.0          True   \n",
       "\n",
       "                  event_at  \n",
       "0  2023-10-18 19:00:52.284  \n",
       "1  2024-02-09 02:28:41.894  \n",
       "2  2024-02-10 02:55:37.475  \n",
       "3  2024-02-10 02:46:21.855  \n",
       "4  2023-09-01 23:51:13.967  "
      ]
     },
     "metadata": {},
     "output_type": "display_data"
    },
    {
     "name": "stdout",
     "output_type": "stream",
     "text": [
      "-------------------- INITIAL DATA TYPES --------------------\n",
      "Unnamed: 0        int64\n",
      "u_id              int64\n",
      "platform         object\n",
      "variant           int64\n",
      "duration        float64\n",
      "is_completed       bool\n",
      "event_at         object\n",
      "dtype: object\n"
     ]
    }
   ],
   "source": [
    "# Load raw data\n",
    "file_name = 'ab_test_example_1.csv'\n",
    "df_raw = pd.read_csv('../data/' + file_name)\n",
    "display(df_raw.head(5))\n",
    "\n",
    "# Make a copy\n",
    "df = df_raw.copy()\n",
    "\n",
    "# Check dtypes\n",
    "print_title('INITIAL DATA TYPES')\n",
    "print(df.dtypes)"
   ]
  },
  {
   "cell_type": "markdown",
   "metadata": {},
   "source": [
    "#### METRIC SELECTION"
   ]
  },
  {
   "cell_type": "code",
   "execution_count": 9,
   "metadata": {},
   "outputs": [
    {
     "name": "stderr",
     "output_type": "stream",
     "text": [
      "/var/folders/hv/ckh3m6gn1sd45q2qctrqcwzh0000gn/T/ipykernel_64168/3464730790.py:3: FutureWarning: the convert_dtype parameter is deprecated and will be removed in a future version.  Do ``ser.astype(object).apply()`` instead if you want ``convert_dtype=False``.\n",
      "  df['metric_cvr_is_completed'] = df['is_completed'].apply(lambda x: 1 if x else 0, 1)\n"
     ]
    }
   ],
   "source": [
    "# calculate the metrics, use metric_cnt_ or metric_cvr_\n",
    "df['metric_cnt_duration'] = df['duration']\n",
    "df['metric_cvr_is_completed'] = df['is_completed'].apply(lambda x: 1 if x else 0, 1)"
   ]
  },
  {
   "cell_type": "markdown",
   "metadata": {},
   "source": [
    "#### EXPERIMENT DESIGN"
   ]
  },
  {
   "cell_type": "code",
   "execution_count": 12,
   "metadata": {},
   "outputs": [
    {
     "name": "stdout",
     "output_type": "stream",
     "text": [
      "Sample size: 10368 users per variant\n",
      "Minimum days required: 3\n"
     ]
    }
   ],
   "source": [
    "sample_data_df = df.copy()\n",
    "np.random.seed(42)\n",
    "\n",
    "# Experiment Parameters\n",
    "effect_size = 0.1  # MDE relative percentage (0.02 = 2%)\n",
    "daily_traffic = 10000  # Daily users\n",
    "traffic_proportion = 0.5 # Proportion of daily users use for the experiment\n",
    "metric_column = 'metric_cnt_duration'\n",
    "is_sample_data_available = True\n",
    "\n",
    "# Experiment sizes\n",
    "if not is_sample_data_available:\n",
    "    sample_size = analysis.calculate_sample_size_cohen(effect_size, alpha=0.05, power=0.8)\n",
    "else:\n",
    "    sample_size = analysis.calculate_sample_size_var(sample_data_df, metric_column, effect_size, alpha=0.05, power=0.8)\n",
    "\n",
    "# Experiment duration\n",
    "experiment_days_duration = analysis.calculate_experiment_duration(sample_size, daily_traffic, traffic_proportion)\n",
    "\n",
    "print(f\"Sample size: {sample_size} users per variant\")\n",
    "print(f\"Minimum days required: {experiment_days_duration}\")"
   ]
  },
  {
   "cell_type": "markdown",
   "metadata": {},
   "source": [
    "-----------------------------------------------------------------------------------------"
   ]
  },
  {
   "cell_type": "markdown",
   "metadata": {},
   "source": [
    "# EXPERIMENT RESULTS"
   ]
  },
  {
   "cell_type": "markdown",
   "metadata": {},
   "source": [
    "## SOURCES INGESTION"
   ]
  },
  {
   "cell_type": "markdown",
   "metadata": {},
   "source": [
    "### LOAD"
   ]
  },
  {
   "cell_type": "code",
   "execution_count": 13,
   "metadata": {},
   "outputs": [
    {
     "data": {
      "text/html": [
       "<div>\n",
       "<style scoped>\n",
       "    .dataframe tbody tr th:only-of-type {\n",
       "        vertical-align: middle;\n",
       "    }\n",
       "\n",
       "    .dataframe tbody tr th {\n",
       "        vertical-align: top;\n",
       "    }\n",
       "\n",
       "    .dataframe thead th {\n",
       "        text-align: right;\n",
       "    }\n",
       "</style>\n",
       "<table border=\"1\" class=\"dataframe\">\n",
       "  <thead>\n",
       "    <tr style=\"text-align: right;\">\n",
       "      <th></th>\n",
       "      <th>Unnamed: 0</th>\n",
       "      <th>u_id</th>\n",
       "      <th>platform</th>\n",
       "      <th>variant</th>\n",
       "      <th>duration</th>\n",
       "      <th>is_completed</th>\n",
       "      <th>event_at</th>\n",
       "    </tr>\n",
       "  </thead>\n",
       "  <tbody>\n",
       "    <tr>\n",
       "      <th>0</th>\n",
       "      <td>0</td>\n",
       "      <td>0</td>\n",
       "      <td>apple</td>\n",
       "      <td>0</td>\n",
       "      <td>75.0</td>\n",
       "      <td>True</td>\n",
       "      <td>2023-10-18 19:00:52.284</td>\n",
       "    </tr>\n",
       "    <tr>\n",
       "      <th>1</th>\n",
       "      <td>1</td>\n",
       "      <td>1</td>\n",
       "      <td>apple</td>\n",
       "      <td>0</td>\n",
       "      <td>24.0</td>\n",
       "      <td>False</td>\n",
       "      <td>2024-02-09 02:28:41.894</td>\n",
       "    </tr>\n",
       "    <tr>\n",
       "      <th>2</th>\n",
       "      <td>2</td>\n",
       "      <td>2</td>\n",
       "      <td>apple</td>\n",
       "      <td>0</td>\n",
       "      <td>54.0</td>\n",
       "      <td>True</td>\n",
       "      <td>2024-02-10 02:55:37.475</td>\n",
       "    </tr>\n",
       "    <tr>\n",
       "      <th>3</th>\n",
       "      <td>3</td>\n",
       "      <td>3</td>\n",
       "      <td>apple</td>\n",
       "      <td>0</td>\n",
       "      <td>128.0</td>\n",
       "      <td>True</td>\n",
       "      <td>2024-02-10 02:46:21.855</td>\n",
       "    </tr>\n",
       "    <tr>\n",
       "      <th>4</th>\n",
       "      <td>4</td>\n",
       "      <td>4</td>\n",
       "      <td>apple</td>\n",
       "      <td>0</td>\n",
       "      <td>27.0</td>\n",
       "      <td>True</td>\n",
       "      <td>2023-09-01 23:51:13.967</td>\n",
       "    </tr>\n",
       "  </tbody>\n",
       "</table>\n",
       "</div>"
      ],
      "text/plain": [
       "   Unnamed: 0  u_id platform  variant  duration  is_completed  \\\n",
       "0           0     0    apple        0      75.0          True   \n",
       "1           1     1    apple        0      24.0         False   \n",
       "2           2     2    apple        0      54.0          True   \n",
       "3           3     3    apple        0     128.0          True   \n",
       "4           4     4    apple        0      27.0          True   \n",
       "\n",
       "                  event_at  \n",
       "0  2023-10-18 19:00:52.284  \n",
       "1  2024-02-09 02:28:41.894  \n",
       "2  2024-02-10 02:55:37.475  \n",
       "3  2024-02-10 02:46:21.855  \n",
       "4  2023-09-01 23:51:13.967  "
      ]
     },
     "metadata": {},
     "output_type": "display_data"
    },
    {
     "name": "stdout",
     "output_type": "stream",
     "text": [
      "-------------------- INITIAL DATA TYPES --------------------\n",
      "Unnamed: 0        int64\n",
      "u_id              int64\n",
      "platform         object\n",
      "variant           int64\n",
      "duration        float64\n",
      "is_completed       bool\n",
      "event_at         object\n",
      "dtype: object\n"
     ]
    }
   ],
   "source": [
    "# Load raw data\n",
    "file_name = 'ab_test_example_1.csv'\n",
    "df_raw = pd.read_csv('../data/' + file_name)\n",
    "display(df_raw.head(5))\n",
    "\n",
    "# Make a copy\n",
    "df = df_raw.copy()\n",
    "\n",
    "# Check dtypes\n",
    "print_title('INITIAL DATA TYPES')\n",
    "print(df.dtypes)"
   ]
  },
  {
   "cell_type": "markdown",
   "metadata": {},
   "source": [
    "### DTYPES"
   ]
  },
  {
   "cell_type": "code",
   "execution_count": 14,
   "metadata": {},
   "outputs": [
    {
     "name": "stdout",
     "output_type": "stream",
     "text": [
      "------------------- CONVERTED DATA TYPES -------------------\n",
      "Unnamed: 0               int64\n",
      "u_id                    object\n",
      "platform                object\n",
      "variant                 object\n",
      "duration               float64\n",
      "is_completed            object\n",
      "event_at        datetime64[ns]\n",
      "dtype: object\n"
     ]
    },
    {
     "data": {
      "text/html": [
       "<div>\n",
       "<style scoped>\n",
       "    .dataframe tbody tr th:only-of-type {\n",
       "        vertical-align: middle;\n",
       "    }\n",
       "\n",
       "    .dataframe tbody tr th {\n",
       "        vertical-align: top;\n",
       "    }\n",
       "\n",
       "    .dataframe thead th {\n",
       "        text-align: right;\n",
       "    }\n",
       "</style>\n",
       "<table border=\"1\" class=\"dataframe\">\n",
       "  <thead>\n",
       "    <tr style=\"text-align: right;\">\n",
       "      <th></th>\n",
       "      <th>Unnamed: 0</th>\n",
       "      <th>u_id</th>\n",
       "      <th>platform</th>\n",
       "      <th>variant</th>\n",
       "      <th>duration</th>\n",
       "      <th>is_completed</th>\n",
       "      <th>event_at</th>\n",
       "    </tr>\n",
       "  </thead>\n",
       "  <tbody>\n",
       "    <tr>\n",
       "      <th>0</th>\n",
       "      <td>0</td>\n",
       "      <td>0</td>\n",
       "      <td>apple</td>\n",
       "      <td>0</td>\n",
       "      <td>75.0</td>\n",
       "      <td>True</td>\n",
       "      <td>2023-10-18 19:00:52.284</td>\n",
       "    </tr>\n",
       "    <tr>\n",
       "      <th>1</th>\n",
       "      <td>1</td>\n",
       "      <td>1</td>\n",
       "      <td>apple</td>\n",
       "      <td>0</td>\n",
       "      <td>24.0</td>\n",
       "      <td>False</td>\n",
       "      <td>2024-02-09 02:28:41.894</td>\n",
       "    </tr>\n",
       "    <tr>\n",
       "      <th>2</th>\n",
       "      <td>2</td>\n",
       "      <td>2</td>\n",
       "      <td>apple</td>\n",
       "      <td>0</td>\n",
       "      <td>54.0</td>\n",
       "      <td>True</td>\n",
       "      <td>2024-02-10 02:55:37.475</td>\n",
       "    </tr>\n",
       "    <tr>\n",
       "      <th>3</th>\n",
       "      <td>3</td>\n",
       "      <td>3</td>\n",
       "      <td>apple</td>\n",
       "      <td>0</td>\n",
       "      <td>128.0</td>\n",
       "      <td>True</td>\n",
       "      <td>2024-02-10 02:46:21.855</td>\n",
       "    </tr>\n",
       "    <tr>\n",
       "      <th>4</th>\n",
       "      <td>4</td>\n",
       "      <td>4</td>\n",
       "      <td>apple</td>\n",
       "      <td>0</td>\n",
       "      <td>27.0</td>\n",
       "      <td>True</td>\n",
       "      <td>2023-09-01 23:51:13.967</td>\n",
       "    </tr>\n",
       "  </tbody>\n",
       "</table>\n",
       "</div>"
      ],
      "text/plain": [
       "   Unnamed: 0 u_id platform variant  duration is_completed  \\\n",
       "0           0    0    apple       0      75.0         True   \n",
       "1           1    1    apple       0      24.0        False   \n",
       "2           2    2    apple       0      54.0         True   \n",
       "3           3    3    apple       0     128.0         True   \n",
       "4           4    4    apple       0      27.0         True   \n",
       "\n",
       "                 event_at  \n",
       "0 2023-10-18 19:00:52.284  \n",
       "1 2024-02-09 02:28:41.894  \n",
       "2 2024-02-10 02:55:37.475  \n",
       "3 2024-02-10 02:46:21.855  \n",
       "4 2023-09-01 23:51:13.967  "
      ]
     },
     "metadata": {},
     "output_type": "display_data"
    }
   ],
   "source": [
    "datetime_columns = ['event_at']\n",
    "float64_columns = ['duration']\n",
    "str_columns = ['variant', 'platform', 'u_id', 'is_completed']\n",
    "int64_columns = ['']\n",
    "\n",
    "# Basic data conversion\n",
    "df = framework.format_columns(df, datetime_columns, int64_columns, float64_columns, str_columns)\n",
    "\n",
    "# Check dtypes\n",
    "print_title('CONVERTED DATA TYPES')\n",
    "print(df.dtypes)\n",
    "display(df.head(5))"
   ]
  },
  {
   "cell_type": "markdown",
   "metadata": {},
   "source": [
    "## DATA CLEANING"
   ]
  },
  {
   "cell_type": "markdown",
   "metadata": {},
   "source": [
    "### CHECKS"
   ]
  },
  {
   "cell_type": "code",
   "execution_count": 15,
   "metadata": {},
   "outputs": [],
   "source": [
    "variant_column = 'variant'"
   ]
  },
  {
   "cell_type": "code",
   "execution_count": 16,
   "metadata": {},
   "outputs": [
    {
     "name": "stdout",
     "output_type": "stream",
     "text": [
      "------------------------- DF INFO -------------------------\n",
      "<class 'pandas.core.frame.DataFrame'>\n",
      "RangeIndex: 1412912 entries, 0 to 1412911\n",
      "Data columns (total 7 columns):\n",
      " #   Column        Non-Null Count    Dtype         \n",
      "---  ------        --------------    -----         \n",
      " 0   Unnamed: 0    1412912 non-null  int64         \n",
      " 1   u_id          1412912 non-null  object        \n",
      " 2   platform      1412912 non-null  object        \n",
      " 3   variant       1412912 non-null  object        \n",
      " 4   duration      1412912 non-null  float64       \n",
      " 5   is_completed  1412912 non-null  object        \n",
      " 6   event_at      1412912 non-null  datetime64[ns]\n",
      "dtypes: datetime64[ns](1), float64(1), int64(1), object(4)\n",
      "memory usage: 75.5+ MB\n"
     ]
    },
    {
     "data": {
      "text/plain": [
       "None"
      ]
     },
     "metadata": {},
     "output_type": "display_data"
    },
    {
     "name": "stdout",
     "output_type": "stream",
     "text": [
      "----------------------- DF DESCRIBE -----------------------\n"
     ]
    },
    {
     "data": {
      "text/html": [
       "<div>\n",
       "<style scoped>\n",
       "    .dataframe tbody tr th:only-of-type {\n",
       "        vertical-align: middle;\n",
       "    }\n",
       "\n",
       "    .dataframe tbody tr th {\n",
       "        vertical-align: top;\n",
       "    }\n",
       "\n",
       "    .dataframe thead th {\n",
       "        text-align: right;\n",
       "    }\n",
       "</style>\n",
       "<table border=\"1\" class=\"dataframe\">\n",
       "  <thead>\n",
       "    <tr style=\"text-align: right;\">\n",
       "      <th></th>\n",
       "      <th>Unnamed: 0</th>\n",
       "      <th>duration</th>\n",
       "      <th>event_at</th>\n",
       "    </tr>\n",
       "  </thead>\n",
       "  <tbody>\n",
       "    <tr>\n",
       "      <th>count</th>\n",
       "      <td>1.412912e+06</td>\n",
       "      <td>1.412912e+06</td>\n",
       "      <td>1412912</td>\n",
       "    </tr>\n",
       "    <tr>\n",
       "      <th>mean</th>\n",
       "      <td>7.064555e+05</td>\n",
       "      <td>7.858214e+01</td>\n",
       "      <td>2023-12-08 07:29:59.005399040</td>\n",
       "    </tr>\n",
       "    <tr>\n",
       "      <th>min</th>\n",
       "      <td>0.000000e+00</td>\n",
       "      <td>0.000000e+00</td>\n",
       "      <td>2023-05-01 00:00:18.230000</td>\n",
       "    </tr>\n",
       "    <tr>\n",
       "      <th>25%</th>\n",
       "      <td>3.532278e+05</td>\n",
       "      <td>1.100000e+01</td>\n",
       "      <td>2023-09-19 18:54:12.827249920</td>\n",
       "    </tr>\n",
       "    <tr>\n",
       "      <th>50%</th>\n",
       "      <td>7.064555e+05</td>\n",
       "      <td>4.700000e+01</td>\n",
       "      <td>2023-12-16 17:05:38.686500096</td>\n",
       "    </tr>\n",
       "    <tr>\n",
       "      <th>75%</th>\n",
       "      <td>1.059683e+06</td>\n",
       "      <td>1.050000e+02</td>\n",
       "      <td>2024-03-04 22:04:21.504750080</td>\n",
       "    </tr>\n",
       "    <tr>\n",
       "      <th>max</th>\n",
       "      <td>1.412911e+06</td>\n",
       "      <td>7.297100e+04</td>\n",
       "      <td>2024-05-27 23:59:57.466000</td>\n",
       "    </tr>\n",
       "    <tr>\n",
       "      <th>std</th>\n",
       "      <td>4.078727e+05</td>\n",
       "      <td>2.019494e+02</td>\n",
       "      <td>NaN</td>\n",
       "    </tr>\n",
       "  </tbody>\n",
       "</table>\n",
       "</div>"
      ],
      "text/plain": [
       "         Unnamed: 0      duration                       event_at\n",
       "count  1.412912e+06  1.412912e+06                        1412912\n",
       "mean   7.064555e+05  7.858214e+01  2023-12-08 07:29:59.005399040\n",
       "min    0.000000e+00  0.000000e+00     2023-05-01 00:00:18.230000\n",
       "25%    3.532278e+05  1.100000e+01  2023-09-19 18:54:12.827249920\n",
       "50%    7.064555e+05  4.700000e+01  2023-12-16 17:05:38.686500096\n",
       "75%    1.059683e+06  1.050000e+02  2024-03-04 22:04:21.504750080\n",
       "max    1.412911e+06  7.297100e+04     2024-05-27 23:59:57.466000\n",
       "std    4.078727e+05  2.019494e+02                            NaN"
      ]
     },
     "metadata": {},
     "output_type": "display_data"
    },
    {
     "name": "stdout",
     "output_type": "stream",
     "text": [
      "------------------- VARIANT DISTRIBUTION -------------------\n"
     ]
    },
    {
     "data": {
      "text/plain": [
       "variant\n",
       "1    717257\n",
       "0    695655\n",
       "Name: count, dtype: int64"
      ]
     },
     "metadata": {},
     "output_type": "display_data"
    }
   ],
   "source": [
    "# Quick checks on data\n",
    "print_title('DF INFO')\n",
    "display(df.info())\n",
    "\n",
    "print_title('DF DESCRIBE')\n",
    "display(df.describe())\n",
    "\n",
    "# Check distribution of variants\n",
    "print_title('VARIANT DISTRIBUTION')\n",
    "display(df[variant_column].value_counts())"
   ]
  },
  {
   "cell_type": "markdown",
   "metadata": {},
   "source": [
    "### DUPLICATES"
   ]
  },
  {
   "cell_type": "code",
   "execution_count": 17,
   "metadata": {},
   "outputs": [
    {
     "name": "stdout",
     "output_type": "stream",
     "text": [
      "# of duplicated rows:  0\n",
      "No duplicates in the DataFrame found.\n"
     ]
    }
   ],
   "source": [
    "# Check for and drop duplicates in the entire DataFrame\n",
    "duplicated_rows = df.duplicated().sum()\n",
    "print('# of duplicated rows: ', duplicated_rows)\n",
    "\n",
    "if duplicated_rows > 0:\n",
    "    df = df.drop_duplicates()\n",
    "    print('Duplicates in the DataFrame removed.')\n",
    "else:\n",
    "    print('No duplicates in the DataFrame found.')"
   ]
  },
  {
   "cell_type": "code",
   "execution_count": 18,
   "metadata": {},
   "outputs": [
    {
     "name": "stdout",
     "output_type": "stream",
     "text": [
      "# of duplicated on u_id column: 0\n"
     ]
    }
   ],
   "source": [
    "primary_key_column = 'u_id'\n",
    "timestamp_column = ''\n",
    "\n",
    "# Check for duplicates in the unique columns\n",
    "duplicated_rows = df[df[primary_key_column].duplicated(keep=False)]\n",
    "print(f'# of duplicated on {primary_key_column} column: {duplicated_rows[primary_key_column].nunique()}')\n",
    "\n",
    "if not duplicated_rows.empty:\n",
    "    print(f'Duplicated {primary_key_column} and their rows:')\n",
    "    display(duplicated_rows.sort_values(by = primary_key_column))\n",
    "\n",
    "    # Keep only the first following timestamp column order\n",
    "    if timestamp_column == '':\n",
    "        df = df.drop_duplicates(subset=primary_key_column, keep='last')\n",
    "        print('Kept the most recent row for each duplicated' +  primary_key_column)\n",
    "    else:\n",
    "        df = df.sort_values(timestamp_column).drop_duplicates(subset=primary_key_column, keep='last')\n",
    "        print('Kept the most recent row for each duplicated ' + primary_key_column)"
   ]
  },
  {
   "cell_type": "markdown",
   "metadata": {},
   "source": [
    "### NULLS"
   ]
  },
  {
   "cell_type": "code",
   "execution_count": 19,
   "metadata": {},
   "outputs": [
    {
     "name": "stdout",
     "output_type": "stream",
     "text": [
      "------------------ NUMBER OF NULL VALUES ------------------\n",
      "Unnamed: 0      0\n",
      "u_id            0\n",
      "platform        0\n",
      "variant         0\n",
      "duration        0\n",
      "is_completed    0\n",
      "event_at        0\n",
      "dtype: int64\n"
     ]
    }
   ],
   "source": [
    "# Check for missing values\n",
    "missing_values = df.isnull().sum()\n",
    "print_title('NUMBER OF NULL VALUES')\n",
    "print(missing_values)"
   ]
  },
  {
   "cell_type": "markdown",
   "metadata": {},
   "source": [
    "## METRICS DEFINITION"
   ]
  },
  {
   "cell_type": "code",
   "execution_count": 20,
   "metadata": {},
   "outputs": [
    {
     "name": "stderr",
     "output_type": "stream",
     "text": [
      "/var/folders/hv/ckh3m6gn1sd45q2qctrqcwzh0000gn/T/ipykernel_64168/3484529170.py:3: FutureWarning: the convert_dtype parameter is deprecated and will be removed in a future version.  Do ``ser.astype(object).apply()`` instead if you want ``convert_dtype=False``.\n",
      "  df['metric_cvr_is_completed'] = df['is_completed'].apply(lambda x: 1 if x == 'True' else 0, 1)\n"
     ]
    }
   ],
   "source": [
    "# calculate the metrics, use metric_cnt_ or metric_cvr_\n",
    "df['metric_cnt_duration'] = df['duration']\n",
    "df['metric_cvr_is_completed'] = df['is_completed'].apply(lambda x: 1 if x == 'True' else 0, 1)"
   ]
  },
  {
   "cell_type": "markdown",
   "metadata": {},
   "source": [
    "## DATA ANALYSIS"
   ]
  },
  {
   "cell_type": "code",
   "execution_count": 21,
   "metadata": {},
   "outputs": [
    {
     "name": "stdout",
     "output_type": "stream",
     "text": [
      "Low outlier limit: -105.0\n",
      "Upper outlier limit: 231.0\n",
      "Filtered 73569 rows (5.21%) from 1412912 to 1339343\n",
      "is_strong_outlier_effect: False\n"
     ]
    },
    {
     "data": {
      "text/html": [
       "<div>\n",
       "<style scoped>\n",
       "    .dataframe tbody tr th:only-of-type {\n",
       "        vertical-align: middle;\n",
       "    }\n",
       "\n",
       "    .dataframe tbody tr th {\n",
       "        vertical-align: top;\n",
       "    }\n",
       "\n",
       "    .dataframe thead th {\n",
       "        text-align: right;\n",
       "    }\n",
       "</style>\n",
       "<table border=\"1\" class=\"dataframe\">\n",
       "  <thead>\n",
       "    <tr style=\"text-align: right;\">\n",
       "      <th></th>\n",
       "      <th>u_id</th>\n",
       "      <th>variant</th>\n",
       "      <th>metric_cnt_duration</th>\n",
       "    </tr>\n",
       "  </thead>\n",
       "  <tbody>\n",
       "    <tr>\n",
       "      <th>785008</th>\n",
       "      <td>785008</td>\n",
       "      <td>0</td>\n",
       "      <td>38.0</td>\n",
       "    </tr>\n",
       "    <tr>\n",
       "      <th>810277</th>\n",
       "      <td>810277</td>\n",
       "      <td>1</td>\n",
       "      <td>131.0</td>\n",
       "    </tr>\n",
       "    <tr>\n",
       "      <th>762245</th>\n",
       "      <td>762245</td>\n",
       "      <td>1</td>\n",
       "      <td>186.0</td>\n",
       "    </tr>\n",
       "    <tr>\n",
       "      <th>400898</th>\n",
       "      <td>400898</td>\n",
       "      <td>0</td>\n",
       "      <td>135.0</td>\n",
       "    </tr>\n",
       "    <tr>\n",
       "      <th>209953</th>\n",
       "      <td>209953</td>\n",
       "      <td>0</td>\n",
       "      <td>36.0</td>\n",
       "    </tr>\n",
       "  </tbody>\n",
       "</table>\n",
       "</div>"
      ],
      "text/plain": [
       "          u_id variant  metric_cnt_duration\n",
       "785008  785008       0                 38.0\n",
       "810277  810277       1                131.0\n",
       "762245  762245       1                186.0\n",
       "400898  400898       0                135.0\n",
       "209953  209953       0                 36.0"
      ]
     },
     "metadata": {},
     "output_type": "display_data"
    }
   ],
   "source": [
    "# Select metrics and columns involved in the test\n",
    "primary_key_column = 'u_id'\n",
    "metric_column = 'metric_cnt_duration'\n",
    "variant_column = 'variant'\n",
    "\n",
    "columns_selection_df = df[[primary_key_column, variant_column, metric_column]]\n",
    "metric_type = (\n",
    "    'continuous' if metric_column.startswith('metric_cnt_') else\n",
    "    'proportion' if metric_column.startswith('metric_cvr_') else\n",
    "    None\n",
    ")\n",
    "outliers_filtered_df, is_strong_outlier_effect = analysis.remove_outliers(columns_selection_df, metric_column, 1)\n",
    "\n",
    "# Filter outliers:\n",
    "filter_outliers = False\n",
    "\n",
    "if filter_outliers:\n",
    "    selected_df = outliers_filtered_df.copy()\n",
    "else:\n",
    "    selected_df = columns_selection_df.copy()\n",
    "\n",
    "display(selected_df.sample(5))"
   ]
  },
  {
   "cell_type": "markdown",
   "metadata": {},
   "source": [
    "### NUMBER OF VARIANTS"
   ]
  },
  {
   "cell_type": "code",
   "execution_count": 22,
   "metadata": {},
   "outputs": [
    {
     "name": "stdout",
     "output_type": "stream",
     "text": [
      "Number of Variants: 2\n",
      "Variants: ['0' '1']\n"
     ]
    }
   ],
   "source": [
    "num_variants = selected_df[variant_column].nunique()\n",
    "\n",
    "print(f\"Number of Variants: {num_variants}\")\n",
    "print(f\"Variants: {selected_df[variant_column].unique()}\")"
   ]
  },
  {
   "cell_type": "markdown",
   "metadata": {},
   "source": [
    "### SAMPLE SIZES"
   ]
  },
  {
   "cell_type": "code",
   "execution_count": 23,
   "metadata": {},
   "outputs": [
    {
     "name": "stdout",
     "output_type": "stream",
     "text": [
      "Sample sizes per variant:\n",
      "variant\n",
      "1    717257\n",
      "0    695655\n",
      "Name: count, dtype: int64\n",
      "\n",
      "Proportion per variant:\n",
      "variant\n",
      "1    0.507644\n",
      "0    0.492356\n",
      "Name: count, dtype: float64\n",
      "\n",
      "Variant Ratio (N = max/min): 1.03\n"
     ]
    }
   ],
   "source": [
    "# check if the sample size is large enough\n",
    "# check if the variant sizes ar equal or not and the proportion\n",
    "\n",
    "sample_sizes = selected_df[variant_column].value_counts()\n",
    "print(\"Sample sizes per variant:\")\n",
    "print(sample_sizes)\n",
    "\n",
    "variant_proportion = sample_sizes / sample_sizes.sum()\n",
    "print(\"\\nProportion per variant:\")\n",
    "print(variant_proportion)\n",
    "\n",
    "variant_ratio = sample_sizes.max() / sample_sizes.min()\n",
    "print(f\"\\nVariant Ratio (N = max/min): {variant_ratio:.2f}\")"
   ]
  },
  {
   "cell_type": "markdown",
   "metadata": {},
   "source": [
    "### SAMPLE DISTRIBUTION"
   ]
  },
  {
   "cell_type": "code",
   "execution_count": 24,
   "metadata": {},
   "outputs": [
    {
     "name": "stdout",
     "output_type": "stream",
     "text": [
      "----------------------------------------- NORMAL DISTRIBUTION VISUAL ANALYSIS -----------------------------------------\n"
     ]
    },
    {
     "data": {
      "image/png": "[encoded data removed]",
      "text/plain": [
       "<Figure size 1200x400 with 2 Axes>"
      ]
     },
     "metadata": {},
     "output_type": "display_data"
    },
    {
     "data": {
      "image/png": "[encoded data removed]",
      "text/plain": [
       "<Figure size 1200x400 with 2 Axes>"
      ]
     },
     "metadata": {},
     "output_type": "display_data"
    },
    {
     "data": {
      "image/png": "[encoded data removed]",
      "text/plain": [
       "<Figure size 1200x400 with 1 Axes>"
      ]
     },
     "metadata": {},
     "output_type": "display_data"
    },
    {
     "data": {
      "image/png": "[encoded data removed]",
      "text/plain": [
       "<Figure size 1200x400 with 1 Axes>"
      ]
     },
     "metadata": {},
     "output_type": "display_data"
    },
    {
     "name": "stdout",
     "output_type": "stream",
     "text": [
      "------------------------------------------- NORMAL DISTRIBUTION TEST RESULTS -------------------------------------------\n",
      "variant 0: normaltest statistic = 2572928.6178, p-value = 0.0000\n",
      "variant 1: normaltest statistic = 2978554.7116, p-value = 0.0000\n",
      "\n",
      "USE NORMAL DISTRIBUTION TESTS: False\n"
     ]
    }
   ],
   "source": [
    "sns.set_style(\"white\")\n",
    "print_title('NORMAL DISTRIBUTION VISUAL ANALYSIS', 120)\n",
    "analysis.plot_qq(selected_df, variant_column, metric_column)\n",
    "analysis.plot_histogram_kde(selected_df, variant_column, metric_column)\n",
    "analysis.plot_violin(selected_df, variant_column, metric_column)\n",
    "analysis.plot_combined_kde(selected_df, variant_column, metric_column)\n",
    "\n",
    "print_title('NORMAL DISTRIBUTION TEST RESULTS', 120)\n",
    "distribution_results = analysis.calculate_distribution(selected_df, variant_column, metric_column)\n",
    "\n",
    "is_normal_distribution = analysis.set_normal_distribution_flag(distribution_results, alpha=0.05)\n",
    "print(f'\\nUSE NORMAL DISTRIBUTION TESTS: {is_normal_distribution}')"
   ]
  },
  {
   "cell_type": "markdown",
   "metadata": {},
   "source": [
    "### SAMPLE VARIANCES"
   ]
  },
  {
   "cell_type": "code",
   "execution_count": 25,
   "metadata": {},
   "outputs": [
    {
     "name": "stdout",
     "output_type": "stream",
     "text": [
      "------------------------------------------------------------------------------ VARIANCE TEST RESULTS ------------------------------------------------------------------------------\n",
      "Levene test statistic = 130.7895, p_value = 0.0000\n",
      "Equal variance assumption: False\n",
      "\n",
      "USE EQUAL VARIANCE TESTS: False\n"
     ]
    }
   ],
   "source": [
    "print_title('VARIANCE TEST RESULTS', 180)\n",
    "variance_results = analysis.calculate_variance_analysis(selected_df, variant_column, metric_column)\n",
    "\n",
    "is_equal_variance = analysis.set_equal_variance_flag(variance_results, alpha=0.05)\n",
    "print(f'\\nUSE EQUAL VARIANCE TESTS: {is_equal_variance}')"
   ]
  },
  {
   "cell_type": "markdown",
   "metadata": {},
   "source": [
    "## STATISTICAL TESTING"
   ]
  },
  {
   "cell_type": "markdown",
   "metadata": {},
   "source": [
    "### TEST AND TECHNICHES SELECTION"
   ]
  },
  {
   "cell_type": "code",
   "execution_count": 26,
   "metadata": {},
   "outputs": [
    {
     "name": "stdout",
     "output_type": "stream",
     "text": [
      "---------------------- TEST VARIABLES ----------------------\n",
      "metric_type: continuous\n",
      "is_normal_distribution: False\n",
      "is_equal_variance: False\n",
      "num_variants: 2\n",
      "sample_sizes: variant\n",
      "1    717257\n",
      "0    695655\n",
      "Name: count, dtype: int64\n",
      "variant_ratio: 1.03\n",
      "is_strong_outlier_effect: False\n",
      "\n",
      "\n",
      "---------------------- TEST SELECTION ----------------------\n",
      "{'use_mann_whitney_u_test': True, 'use_bayesian_test': True}\n"
     ]
    }
   ],
   "source": [
    "print_title('TEST VARIABLES', 60)\n",
    "ab_test_config = ab_tests.configure_ab_test(metric_type, is_equal_variance, is_normal_distribution, num_variants, variant_ratio, sample_sizes, is_strong_outlier_effect)\n",
    "print('\\n')\n",
    "print_title('TEST SELECTION', 60)\n",
    "print({key: value for key, value in ab_test_config.items() if value})"
   ]
  },
  {
   "cell_type": "markdown",
   "metadata": {},
   "source": [
    "### UNBALANCE DATA"
   ]
  },
  {
   "cell_type": "code",
   "execution_count": 27,
   "metadata": {},
   "outputs": [],
   "source": [
    "selected_df = ab_tests.resample_data(selected_df, ab_test_config, variant_column)"
   ]
  },
  {
   "cell_type": "markdown",
   "metadata": {},
   "source": [
    "### TESTS"
   ]
  },
  {
   "cell_type": "code",
   "execution_count": 28,
   "metadata": {},
   "outputs": [
    {
     "name": "stdout",
     "output_type": "stream",
     "text": [
      "--------------------------------- TEST RESULTS ---------------------------------\n"
     ]
    },
    {
     "data": {
      "text/html": [
       "<div>\n",
       "<style scoped>\n",
       "    .dataframe tbody tr th:only-of-type {\n",
       "        vertical-align: middle;\n",
       "    }\n",
       "\n",
       "    .dataframe tbody tr th {\n",
       "        vertical-align: top;\n",
       "    }\n",
       "\n",
       "    .dataframe thead th {\n",
       "        text-align: right;\n",
       "    }\n",
       "</style>\n",
       "<table border=\"1\" class=\"dataframe\">\n",
       "  <thead>\n",
       "    <tr style=\"text-align: right;\">\n",
       "      <th></th>\n",
       "      <th>group1</th>\n",
       "      <th>group2</th>\n",
       "      <th>p_value</th>\n",
       "      <th>significant</th>\n",
       "    </tr>\n",
       "  </thead>\n",
       "  <tbody>\n",
       "    <tr>\n",
       "      <th>0</th>\n",
       "      <td>0</td>\n",
       "      <td>1</td>\n",
       "      <td>0.0</td>\n",
       "      <td>True</td>\n",
       "    </tr>\n",
       "  </tbody>\n",
       "</table>\n",
       "</div>"
      ],
      "text/plain": [
       "  group1 group2  p_value  significant\n",
       "0      0      1      0.0         True"
      ]
     },
     "metadata": {},
     "output_type": "display_data"
    },
    {
     "name": "stdout",
     "output_type": "stream",
     "text": [
      "-------------------------------- TEST SELECTION --------------------------------\n",
      "{'use_mann_whitney_u_test': True, 'use_bayesian_test': True}\n"
     ]
    },
    {
     "data": {
      "image/png": "[encoded data removed]",
      "text/plain": [
       "<Figure size 1600x400 with 1 Axes>"
      ]
     },
     "metadata": {},
     "output_type": "display_data"
    }
   ],
   "source": [
    "print_title('TEST RESULTS', 80)\n",
    "standardized_results = ab_tests.run_complete_ab_test(ab_test_config, selected_df, variant_column, metric_column, num_variants, alpha = 0.05)\n",
    "display(standardized_results)\n",
    "\n",
    "print_title('TEST SELECTION', 80)\n",
    "print({key: value for key, value in ab_test_config.items() if value})\n",
    "\n",
    "framework.plot_distributions(selected_df, variant_column, metric_column, 0.05)"
   ]
  },
  {
   "cell_type": "markdown",
   "metadata": {},
   "source": [
    "### ADDITIONAL TECHNIQUES"
   ]
  },
  {
   "cell_type": "code",
   "execution_count": 29,
   "metadata": {},
   "outputs": [
    {
     "data": {
      "text/plain": [
       "{'pairwise_tests': {'0 vs 1': {'bayesian_mean_difference': -8.289636688031635,\n",
       "   'bayesian_probability': 0.4952}}}"
      ]
     },
     "metadata": {},
     "output_type": "display_data"
    }
   ],
   "source": [
    "additional_tests_results = ab_tests.apply_additional_tests(ab_test_config, selected_df, variant_column, metric_column)\n",
    "display(additional_tests_results)"
   ]
  }
 ],
 "metadata": {
  "kernelspec": {
   "display_name": "ab-env",
   "language": "python",
   "name": "python3"
  },
  "language_info": {
   "codemirror_mode": {
    "name": "ipython",
    "version": 3
   },
   "file_extension": ".py",
   "mimetype": "text/x-python",
   "name": "python",
   "nbconvert_exporter": "python",
   "pygments_lexer": "ipython3",
   "version": "3.10.16"
  }
 },
 "nbformat": 4,
 "nbformat_minor": 2
}
